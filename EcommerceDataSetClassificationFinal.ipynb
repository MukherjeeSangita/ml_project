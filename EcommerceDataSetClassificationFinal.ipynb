{
  "nbformat": 4,
  "nbformat_minor": 0,
  "metadata": {
    "colab": {
      "provenance": [],
      "collapsed_sections": [],
      "authorship_tag": "ABX9TyPMxKoqhQ8+DVqzZSF4UyZ1",
      "include_colab_link": true
    },
    "kernelspec": {
      "name": "python3",
      "display_name": "Python 3"
    },
    "language_info": {
      "name": "python"
    }
  },
  "cells": [
    {
      "cell_type": "markdown",
      "metadata": {
        "id": "view-in-github",
        "colab_type": "text"
      },
      "source": [
        "<a href=\"https://colab.research.google.com/github/MukherjeeSangita/ml_project/blob/master/EcommerceDataSetClassificationFinal.ipynb\" target=\"_parent\"><img src=\"https://colab.research.google.com/assets/colab-badge.svg\" alt=\"Open In Colab\"/></a>"
      ]
    },
    {
      "cell_type": "markdown",
      "source": [
        "This is a supervised Natural Language Processing based classification problem.Here two algorothms had been implemented Naive Bayes Multinomial and Xe-boost Boosting algoriithm.Naive Bayes gives us 95% accuracy and XeBoost gives 86% accuracy to our test data."
      ],
      "metadata": {
        "id": "S-5Gqt-L8K5x"
      }
    },
    {
      "cell_type": "markdown",
      "source": [
        "Importing Dependencies"
      ],
      "metadata": {
        "id": "tFKFr0LG5JEH"
      }
    },
    {
      "cell_type": "code",
      "execution_count": 2,
      "metadata": {
        "id": "zUCQtCWY4_Uw"
      },
      "outputs": [],
      "source": [
        "import pandas as pd\n",
        "import numpy as np\n",
        "import matplotlib.pyplot as plt\n",
        "import seaborn as sns"
      ]
    },
    {
      "cell_type": "code",
      "source": [
        "#Importing dataset\n",
        "df=pd.read_csv(\"/content/ecommerceDataset.csv\")"
      ],
      "metadata": {
        "id": "bkMy7Dhu5Ovl"
      },
      "execution_count": 3,
      "outputs": []
    },
    {
      "cell_type": "code",
      "source": [
        "#coulmn names\n",
        "cols=['Category','Description']"
      ],
      "metadata": {
        "id": "8z4T6PdCAN3Z"
      },
      "execution_count": 4,
      "outputs": []
    },
    {
      "cell_type": "code",
      "source": [
        "df.columns=cols"
      ],
      "metadata": {
        "id": "DZiTQHjAAU8L"
      },
      "execution_count": 5,
      "outputs": []
    },
    {
      "cell_type": "markdown",
      "source": [
        "\n",
        "\n",
        "```\n",
        "Exploratory Data Analysis\n",
        "```\n",
        "\n"
      ],
      "metadata": {
        "id": "LWEGQGCG-img"
      }
    },
    {
      "cell_type": "code",
      "source": [
        "df.head()"
      ],
      "metadata": {
        "colab": {
          "base_uri": "https://localhost:8080/",
          "height": 206
        },
        "id": "hCkcY8eL8vtL",
        "outputId": "b8c9337e-1ab1-45d0-eab3-2a093fb0c86e"
      },
      "execution_count": 6,
      "outputs": [
        {
          "output_type": "execute_result",
          "data": {
            "text/plain": [
              "    Category                                        Description\n",
              "0  Household  SAF 'Floral' Framed Painting (Wood, 30 inch x ...\n",
              "1  Household  SAF 'UV Textured Modern Art Print Framed' Pain...\n",
              "2  Household  SAF Flower Print Framed Painting (Synthetic, 1...\n",
              "3  Household  Incredible Gifts India Wooden Happy Birthday U...\n",
              "4  Household  Pitaara Box Romantic Venice Canvas Painting 6m..."
            ],
            "text/html": [
              "\n",
              "  <div id=\"df-16aeb1ab-cb87-466a-87d7-d51299180cba\">\n",
              "    <div class=\"colab-df-container\">\n",
              "      <div>\n",
              "<style scoped>\n",
              "    .dataframe tbody tr th:only-of-type {\n",
              "        vertical-align: middle;\n",
              "    }\n",
              "\n",
              "    .dataframe tbody tr th {\n",
              "        vertical-align: top;\n",
              "    }\n",
              "\n",
              "    .dataframe thead th {\n",
              "        text-align: right;\n",
              "    }\n",
              "</style>\n",
              "<table border=\"1\" class=\"dataframe\">\n",
              "  <thead>\n",
              "    <tr style=\"text-align: right;\">\n",
              "      <th></th>\n",
              "      <th>Category</th>\n",
              "      <th>Description</th>\n",
              "    </tr>\n",
              "  </thead>\n",
              "  <tbody>\n",
              "    <tr>\n",
              "      <th>0</th>\n",
              "      <td>Household</td>\n",
              "      <td>SAF 'Floral' Framed Painting (Wood, 30 inch x ...</td>\n",
              "    </tr>\n",
              "    <tr>\n",
              "      <th>1</th>\n",
              "      <td>Household</td>\n",
              "      <td>SAF 'UV Textured Modern Art Print Framed' Pain...</td>\n",
              "    </tr>\n",
              "    <tr>\n",
              "      <th>2</th>\n",
              "      <td>Household</td>\n",
              "      <td>SAF Flower Print Framed Painting (Synthetic, 1...</td>\n",
              "    </tr>\n",
              "    <tr>\n",
              "      <th>3</th>\n",
              "      <td>Household</td>\n",
              "      <td>Incredible Gifts India Wooden Happy Birthday U...</td>\n",
              "    </tr>\n",
              "    <tr>\n",
              "      <th>4</th>\n",
              "      <td>Household</td>\n",
              "      <td>Pitaara Box Romantic Venice Canvas Painting 6m...</td>\n",
              "    </tr>\n",
              "  </tbody>\n",
              "</table>\n",
              "</div>\n",
              "      <button class=\"colab-df-convert\" onclick=\"convertToInteractive('df-16aeb1ab-cb87-466a-87d7-d51299180cba')\"\n",
              "              title=\"Convert this dataframe to an interactive table.\"\n",
              "              style=\"display:none;\">\n",
              "        \n",
              "  <svg xmlns=\"http://www.w3.org/2000/svg\" height=\"24px\"viewBox=\"0 0 24 24\"\n",
              "       width=\"24px\">\n",
              "    <path d=\"M0 0h24v24H0V0z\" fill=\"none\"/>\n",
              "    <path d=\"M18.56 5.44l.94 2.06.94-2.06 2.06-.94-2.06-.94-.94-2.06-.94 2.06-2.06.94zm-11 1L8.5 8.5l.94-2.06 2.06-.94-2.06-.94L8.5 2.5l-.94 2.06-2.06.94zm10 10l.94 2.06.94-2.06 2.06-.94-2.06-.94-.94-2.06-.94 2.06-2.06.94z\"/><path d=\"M17.41 7.96l-1.37-1.37c-.4-.4-.92-.59-1.43-.59-.52 0-1.04.2-1.43.59L10.3 9.45l-7.72 7.72c-.78.78-.78 2.05 0 2.83L4 21.41c.39.39.9.59 1.41.59.51 0 1.02-.2 1.41-.59l7.78-7.78 2.81-2.81c.8-.78.8-2.07 0-2.86zM5.41 20L4 18.59l7.72-7.72 1.47 1.35L5.41 20z\"/>\n",
              "  </svg>\n",
              "      </button>\n",
              "      \n",
              "  <style>\n",
              "    .colab-df-container {\n",
              "      display:flex;\n",
              "      flex-wrap:wrap;\n",
              "      gap: 12px;\n",
              "    }\n",
              "\n",
              "    .colab-df-convert {\n",
              "      background-color: #E8F0FE;\n",
              "      border: none;\n",
              "      border-radius: 50%;\n",
              "      cursor: pointer;\n",
              "      display: none;\n",
              "      fill: #1967D2;\n",
              "      height: 32px;\n",
              "      padding: 0 0 0 0;\n",
              "      width: 32px;\n",
              "    }\n",
              "\n",
              "    .colab-df-convert:hover {\n",
              "      background-color: #E2EBFA;\n",
              "      box-shadow: 0px 1px 2px rgba(60, 64, 67, 0.3), 0px 1px 3px 1px rgba(60, 64, 67, 0.15);\n",
              "      fill: #174EA6;\n",
              "    }\n",
              "\n",
              "    [theme=dark] .colab-df-convert {\n",
              "      background-color: #3B4455;\n",
              "      fill: #D2E3FC;\n",
              "    }\n",
              "\n",
              "    [theme=dark] .colab-df-convert:hover {\n",
              "      background-color: #434B5C;\n",
              "      box-shadow: 0px 1px 3px 1px rgba(0, 0, 0, 0.15);\n",
              "      filter: drop-shadow(0px 1px 2px rgba(0, 0, 0, 0.3));\n",
              "      fill: #FFFFFF;\n",
              "    }\n",
              "  </style>\n",
              "\n",
              "      <script>\n",
              "        const buttonEl =\n",
              "          document.querySelector('#df-16aeb1ab-cb87-466a-87d7-d51299180cba button.colab-df-convert');\n",
              "        buttonEl.style.display =\n",
              "          google.colab.kernel.accessAllowed ? 'block' : 'none';\n",
              "\n",
              "        async function convertToInteractive(key) {\n",
              "          const element = document.querySelector('#df-16aeb1ab-cb87-466a-87d7-d51299180cba');\n",
              "          const dataTable =\n",
              "            await google.colab.kernel.invokeFunction('convertToInteractive',\n",
              "                                                     [key], {});\n",
              "          if (!dataTable) return;\n",
              "\n",
              "          const docLinkHtml = 'Like what you see? Visit the ' +\n",
              "            '<a target=\"_blank\" href=https://colab.research.google.com/notebooks/data_table.ipynb>data table notebook</a>'\n",
              "            + ' to learn more about interactive tables.';\n",
              "          element.innerHTML = '';\n",
              "          dataTable['output_type'] = 'display_data';\n",
              "          await google.colab.output.renderOutput(dataTable, element);\n",
              "          const docLink = document.createElement('div');\n",
              "          docLink.innerHTML = docLinkHtml;\n",
              "          element.appendChild(docLink);\n",
              "        }\n",
              "      </script>\n",
              "    </div>\n",
              "  </div>\n",
              "  "
            ]
          },
          "metadata": {},
          "execution_count": 6
        }
      ]
    },
    {
      "cell_type": "code",
      "source": [
        "df.tail()"
      ],
      "metadata": {
        "colab": {
          "base_uri": "https://localhost:8080/",
          "height": 206
        },
        "id": "qVLqIr4T8vx4",
        "outputId": "9ee4f1dc-4575-4a36-d579-39fae59780a7"
      },
      "execution_count": 7,
      "outputs": [
        {
          "output_type": "execute_result",
          "data": {
            "text/plain": [
              "          Category                                        Description\n",
              "50419  Electronics  Strontium MicroSD Class 10 8GB Memory Card (Bl...\n",
              "50420  Electronics  CrossBeats Wave Waterproof Bluetooth Wireless ...\n",
              "50421  Electronics  Karbonn Titanium Wind W4 (White) Karbonn Titan...\n",
              "50422  Electronics  Samsung Guru FM Plus (SM-B110E/D, Black) Colou...\n",
              "50423  Electronics                   Micromax Canvas Win W121 (White)"
            ],
            "text/html": [
              "\n",
              "  <div id=\"df-388db774-a011-4fb1-82d8-d306bcc926f2\">\n",
              "    <div class=\"colab-df-container\">\n",
              "      <div>\n",
              "<style scoped>\n",
              "    .dataframe tbody tr th:only-of-type {\n",
              "        vertical-align: middle;\n",
              "    }\n",
              "\n",
              "    .dataframe tbody tr th {\n",
              "        vertical-align: top;\n",
              "    }\n",
              "\n",
              "    .dataframe thead th {\n",
              "        text-align: right;\n",
              "    }\n",
              "</style>\n",
              "<table border=\"1\" class=\"dataframe\">\n",
              "  <thead>\n",
              "    <tr style=\"text-align: right;\">\n",
              "      <th></th>\n",
              "      <th>Category</th>\n",
              "      <th>Description</th>\n",
              "    </tr>\n",
              "  </thead>\n",
              "  <tbody>\n",
              "    <tr>\n",
              "      <th>50419</th>\n",
              "      <td>Electronics</td>\n",
              "      <td>Strontium MicroSD Class 10 8GB Memory Card (Bl...</td>\n",
              "    </tr>\n",
              "    <tr>\n",
              "      <th>50420</th>\n",
              "      <td>Electronics</td>\n",
              "      <td>CrossBeats Wave Waterproof Bluetooth Wireless ...</td>\n",
              "    </tr>\n",
              "    <tr>\n",
              "      <th>50421</th>\n",
              "      <td>Electronics</td>\n",
              "      <td>Karbonn Titanium Wind W4 (White) Karbonn Titan...</td>\n",
              "    </tr>\n",
              "    <tr>\n",
              "      <th>50422</th>\n",
              "      <td>Electronics</td>\n",
              "      <td>Samsung Guru FM Plus (SM-B110E/D, Black) Colou...</td>\n",
              "    </tr>\n",
              "    <tr>\n",
              "      <th>50423</th>\n",
              "      <td>Electronics</td>\n",
              "      <td>Micromax Canvas Win W121 (White)</td>\n",
              "    </tr>\n",
              "  </tbody>\n",
              "</table>\n",
              "</div>\n",
              "      <button class=\"colab-df-convert\" onclick=\"convertToInteractive('df-388db774-a011-4fb1-82d8-d306bcc926f2')\"\n",
              "              title=\"Convert this dataframe to an interactive table.\"\n",
              "              style=\"display:none;\">\n",
              "        \n",
              "  <svg xmlns=\"http://www.w3.org/2000/svg\" height=\"24px\"viewBox=\"0 0 24 24\"\n",
              "       width=\"24px\">\n",
              "    <path d=\"M0 0h24v24H0V0z\" fill=\"none\"/>\n",
              "    <path d=\"M18.56 5.44l.94 2.06.94-2.06 2.06-.94-2.06-.94-.94-2.06-.94 2.06-2.06.94zm-11 1L8.5 8.5l.94-2.06 2.06-.94-2.06-.94L8.5 2.5l-.94 2.06-2.06.94zm10 10l.94 2.06.94-2.06 2.06-.94-2.06-.94-.94-2.06-.94 2.06-2.06.94z\"/><path d=\"M17.41 7.96l-1.37-1.37c-.4-.4-.92-.59-1.43-.59-.52 0-1.04.2-1.43.59L10.3 9.45l-7.72 7.72c-.78.78-.78 2.05 0 2.83L4 21.41c.39.39.9.59 1.41.59.51 0 1.02-.2 1.41-.59l7.78-7.78 2.81-2.81c.8-.78.8-2.07 0-2.86zM5.41 20L4 18.59l7.72-7.72 1.47 1.35L5.41 20z\"/>\n",
              "  </svg>\n",
              "      </button>\n",
              "      \n",
              "  <style>\n",
              "    .colab-df-container {\n",
              "      display:flex;\n",
              "      flex-wrap:wrap;\n",
              "      gap: 12px;\n",
              "    }\n",
              "\n",
              "    .colab-df-convert {\n",
              "      background-color: #E8F0FE;\n",
              "      border: none;\n",
              "      border-radius: 50%;\n",
              "      cursor: pointer;\n",
              "      display: none;\n",
              "      fill: #1967D2;\n",
              "      height: 32px;\n",
              "      padding: 0 0 0 0;\n",
              "      width: 32px;\n",
              "    }\n",
              "\n",
              "    .colab-df-convert:hover {\n",
              "      background-color: #E2EBFA;\n",
              "      box-shadow: 0px 1px 2px rgba(60, 64, 67, 0.3), 0px 1px 3px 1px rgba(60, 64, 67, 0.15);\n",
              "      fill: #174EA6;\n",
              "    }\n",
              "\n",
              "    [theme=dark] .colab-df-convert {\n",
              "      background-color: #3B4455;\n",
              "      fill: #D2E3FC;\n",
              "    }\n",
              "\n",
              "    [theme=dark] .colab-df-convert:hover {\n",
              "      background-color: #434B5C;\n",
              "      box-shadow: 0px 1px 3px 1px rgba(0, 0, 0, 0.15);\n",
              "      filter: drop-shadow(0px 1px 2px rgba(0, 0, 0, 0.3));\n",
              "      fill: #FFFFFF;\n",
              "    }\n",
              "  </style>\n",
              "\n",
              "      <script>\n",
              "        const buttonEl =\n",
              "          document.querySelector('#df-388db774-a011-4fb1-82d8-d306bcc926f2 button.colab-df-convert');\n",
              "        buttonEl.style.display =\n",
              "          google.colab.kernel.accessAllowed ? 'block' : 'none';\n",
              "\n",
              "        async function convertToInteractive(key) {\n",
              "          const element = document.querySelector('#df-388db774-a011-4fb1-82d8-d306bcc926f2');\n",
              "          const dataTable =\n",
              "            await google.colab.kernel.invokeFunction('convertToInteractive',\n",
              "                                                     [key], {});\n",
              "          if (!dataTable) return;\n",
              "\n",
              "          const docLinkHtml = 'Like what you see? Visit the ' +\n",
              "            '<a target=\"_blank\" href=https://colab.research.google.com/notebooks/data_table.ipynb>data table notebook</a>'\n",
              "            + ' to learn more about interactive tables.';\n",
              "          element.innerHTML = '';\n",
              "          dataTable['output_type'] = 'display_data';\n",
              "          await google.colab.output.renderOutput(dataTable, element);\n",
              "          const docLink = document.createElement('div');\n",
              "          docLink.innerHTML = docLinkHtml;\n",
              "          element.appendChild(docLink);\n",
              "        }\n",
              "      </script>\n",
              "    </div>\n",
              "  </div>\n",
              "  "
            ]
          },
          "metadata": {},
          "execution_count": 7
        }
      ]
    },
    {
      "cell_type": "code",
      "source": [
        "df.shape"
      ],
      "metadata": {
        "colab": {
          "base_uri": "https://localhost:8080/"
        },
        "id": "23nVKVW77OiT",
        "outputId": "9a51e6ee-1e82-4424-a1c2-697665676d02"
      },
      "execution_count": 8,
      "outputs": [
        {
          "output_type": "execute_result",
          "data": {
            "text/plain": [
              "(50424, 2)"
            ]
          },
          "metadata": {},
          "execution_count": 8
        }
      ]
    },
    {
      "cell_type": "code",
      "source": [
        "#checking for the null Values\n",
        "df.isnull().sum()"
      ],
      "metadata": {
        "colab": {
          "base_uri": "https://localhost:8080/"
        },
        "id": "NZDEJD7I89NL",
        "outputId": "417b2cb8-33e2-4428-8732-8f2b8ea68b6b"
      },
      "execution_count": 9,
      "outputs": [
        {
          "output_type": "execute_result",
          "data": {
            "text/plain": [
              "Category       0\n",
              "Description    1\n",
              "dtype: int64"
            ]
          },
          "metadata": {},
          "execution_count": 9
        }
      ]
    },
    {
      "cell_type": "code",
      "source": [
        "df['Category'].value_counts()"
      ],
      "metadata": {
        "colab": {
          "base_uri": "https://localhost:8080/"
        },
        "id": "MaPRvBGs96nc",
        "outputId": "b9234c18-4e82-4040-a87e-9ee05c507cc1"
      },
      "execution_count": 10,
      "outputs": [
        {
          "output_type": "execute_result",
          "data": {
            "text/plain": [
              "Household                 19312\n",
              "Books                     11820\n",
              "Electronics               10621\n",
              "Clothing & Accessories     8671\n",
              "Name: Category, dtype: int64"
            ]
          },
          "metadata": {},
          "execution_count": 10
        }
      ]
    },
    {
      "cell_type": "code",
      "source": [
        "df['Category'].value_counts().plot(kind='bar')"
      ],
      "metadata": {
        "colab": {
          "base_uri": "https://localhost:8080/",
          "height": 388
        },
        "id": "Z7O2-hqLAuCU",
        "outputId": "80837263-4cd6-4a75-af65-4df1ba8e0327"
      },
      "execution_count": 11,
      "outputs": [
        {
          "output_type": "execute_result",
          "data": {
            "text/plain": [
              "<matplotlib.axes._subplots.AxesSubplot at 0x7f0f05996a90>"
            ]
          },
          "metadata": {},
          "execution_count": 11
        },
        {
          "output_type": "display_data",
          "data": {
            "text/plain": [
              "<Figure size 432x288 with 1 Axes>"
            ],
            "image/png": "[encoded data removed]"
          },
          "metadata": {
            "needs_background": "light"
          }
        }
      ]
    },
    {
      "cell_type": "code",
      "source": [
        "#using seaborn\n",
        "plt.figure(figsize=(10,5))\n",
        "sns.countplot(x='Category',data=df)\n",
        "plt.show()"
      ],
      "metadata": {
        "colab": {
          "base_uri": "https://localhost:8080/",
          "height": 334
        },
        "id": "bA90uN7cA8Jb",
        "outputId": "4afd000b-c12b-419b-d969-0c74073da809"
      },
      "execution_count": 12,
      "outputs": [
        {
          "output_type": "display_data",
          "data": {
            "text/plain": [
              "<Figure size 720x360 with 1 Axes>"
            ],
            "image/png": "[encoded data removed]"
          },
          "metadata": {
            "needs_background": "light"
          }
        }
      ]
    },
    {
      "cell_type": "markdown",
      "source": [
        "Data Preprocessing"
      ],
      "metadata": {
        "id": "G3Y9VeF4i2oP"
      }
    },
    {
      "cell_type": "code",
      "source": [
        "#removing null values\n",
        "df.dropna(inplace=True)"
      ],
      "metadata": {
        "id": "rJKAcWdZBlvE"
      },
      "execution_count": 13,
      "outputs": []
    },
    {
      "cell_type": "markdown",
      "source": [
        "Data Cleaning"
      ],
      "metadata": {
        "id": "yTMdjfA4i9pv"
      }
    },
    {
      "cell_type": "code",
      "source": [
        "pip install neattext\n"
      ],
      "metadata": {
        "id": "ASAzwZhQ1OYX",
        "colab": {
          "base_uri": "https://localhost:8080/"
        },
        "outputId": "bf64497a-e182-4fa6-d1d8-09918f4485a6"
      },
      "execution_count": 14,
      "outputs": [
        {
          "output_type": "stream",
          "name": "stdout",
          "text": [
            "Looking in indexes: https://pypi.org/simple, https://us-python.pkg.dev/colab-wheels/public/simple/\n",
            "Collecting neattext\n",
            "  Downloading neattext-0.1.3-py3-none-any.whl (114 kB)\n",
            "\u001b[K     |████████████████████████████████| 114 kB 5.1 MB/s \n",
            "\u001b[?25hInstalling collected packages: neattext\n",
            "Successfully installed neattext-0.1.3\n"
          ]
        }
      ]
    },
    {
      "cell_type": "code",
      "source": [
        "#converting text to lower_case\n",
        "df['Description']=df['Description'].str.lower()"
      ],
      "metadata": {
        "id": "WxzOdDd5hBTV"
      },
      "execution_count": 15,
      "outputs": []
    },
    {
      "cell_type": "code",
      "source": [
        "import neattext.functions as nfx\n",
        "#Removing User_Handles and storing it in a new column named as Description_clr\n",
        "df['Description_clr']=df['Description'].apply(nfx.remove_userhandles)"
      ],
      "metadata": {
        "id": "9jI6WFC_CMe7"
      },
      "execution_count": 16,
      "outputs": []
    },
    {
      "cell_type": "code",
      "source": [
        "#removing Stopwords\n",
        "df['Description_clr']=df['Description_clr'].apply(nfx.remove_stopwords)"
      ],
      "metadata": {
        "id": "EbMYkxtmC0_Y"
      },
      "execution_count": 17,
      "outputs": []
    },
    {
      "cell_type": "code",
      "source": [
        "#Removing Puntuations\n",
        "df['Description_clr']=df['Description_clr'].apply(nfx.remove_punctuations)"
      ],
      "metadata": {
        "id": "bcbJ3SKHDC1N"
      },
      "execution_count": 18,
      "outputs": []
    },
    {
      "cell_type": "code",
      "source": [
        "#Removing Numbers\n",
        "df['Description_clr']=df['Description_clr'].apply(nfx.remove_numbers)"
      ],
      "metadata": {
        "id": "MzCjN1PJDmkv"
      },
      "execution_count": 19,
      "outputs": []
    },
    {
      "cell_type": "code",
      "source": [
        "#Removing Special Character\n",
        "df['Description_clr']=df['Description_clr'].apply(nfx.remove_special_characters)\n"
      ],
      "metadata": {
        "id": "AGtrJqZNHRnR"
      },
      "execution_count": 20,
      "outputs": []
    },
    {
      "cell_type": "code",
      "source": [
        "df['Description_clr']"
      ],
      "metadata": {
        "colab": {
          "base_uri": "https://localhost:8080/"
        },
        "id": "zxFoKFTrap41",
        "outputId": "3a00a60f-3ed0-4f1c-d40d-3ed0efd553fa"
      },
      "execution_count": 21,
      "outputs": [
        {
          "output_type": "execute_result",
          "data": {
            "text/plain": [
              "0        saf floral framed painting wood  inch x  inch ...\n",
              "1        saf uv textured modern art print framed painti...\n",
              "2        saf flower print framed painting synthetic  in...\n",
              "3        incredible gifts india wooden happy birthday u...\n",
              "4        pitaara box romantic venice canvas painting mm...\n",
              "                               ...                        \n",
              "50419    strontium microsd class  gb memory card black ...\n",
              "50420    crossbeats wave waterproof bluetooth wireless ...\n",
              "50421    karbonn titanium wind w white karbonn titanium...\n",
              "50422    samsung guru fm plus smbed black colourblack c...\n",
              "50423                          micromax canvas win w white\n",
              "Name: Description_clr, Length: 50423, dtype: object"
            ]
          },
          "metadata": {},
          "execution_count": 21
        }
      ]
    },
    {
      "cell_type": "code",
      "source": [
        "df['Description_clr']"
      ],
      "metadata": {
        "colab": {
          "base_uri": "https://localhost:8080/"
        },
        "id": "xlcfJtRQbUKe",
        "outputId": "ce0846ef-6eee-4899-cd6e-0a6bd8c19f89"
      },
      "execution_count": 22,
      "outputs": [
        {
          "output_type": "execute_result",
          "data": {
            "text/plain": [
              "0        saf floral framed painting wood  inch x  inch ...\n",
              "1        saf uv textured modern art print framed painti...\n",
              "2        saf flower print framed painting synthetic  in...\n",
              "3        incredible gifts india wooden happy birthday u...\n",
              "4        pitaara box romantic venice canvas painting mm...\n",
              "                               ...                        \n",
              "50419    strontium microsd class  gb memory card black ...\n",
              "50420    crossbeats wave waterproof bluetooth wireless ...\n",
              "50421    karbonn titanium wind w white karbonn titanium...\n",
              "50422    samsung guru fm plus smbed black colourblack c...\n",
              "50423                          micromax canvas win w white\n",
              "Name: Description_clr, Length: 50423, dtype: object"
            ]
          },
          "metadata": {},
          "execution_count": 22
        }
      ]
    },
    {
      "cell_type": "markdown",
      "source": [
        "Key Word Extraction"
      ],
      "metadata": {
        "id": "aPIseXXlEfwa"
      }
    },
    {
      "cell_type": "code",
      "source": [
        "from collections import Counter"
      ],
      "metadata": {
        "id": "b-Kz1cK5DrNJ"
      },
      "execution_count": 23,
      "outputs": []
    },
    {
      "cell_type": "code",
      "source": [
        "def extract_keywords(text,num=50):\n",
        "  token=[tok for tok in text.split()]\n",
        "  most_comon_tokens=Counter(token).most_common(num)\n",
        "  return dict(most_comon_tokens)"
      ],
      "metadata": {
        "id": "V6WOlzZmEkuK"
      },
      "execution_count": 24,
      "outputs": []
    },
    {
      "cell_type": "code",
      "source": [
        "df['Description_clr'].apply(extract_keywords)"
      ],
      "metadata": {
        "colab": {
          "base_uri": "https://localhost:8080/"
        },
        "id": "R7NzJshxE3KX",
        "outputId": "4812059c-dbd2-446f-f990-f8179a71934d"
      },
      "execution_count": 25,
      "outputs": [
        {
          "output_type": "execute_result",
          "data": {
            "text/plain": [
              "0        {'special': 3, 'painting': 2, 'inch': 2, 'uv':...\n",
              "1        {'painting': 8, 'cm': 6, 'frame': 5, 'x': 4, '...\n",
              "2        {'painting': 7, 'frame': 4, 'x': 3, 'cm': 3, '...\n",
              "3        {'wooden': 4, 'sizes': 3, 'engraved': 3, 'gift...\n",
              "4        {'canvas': 5, 'x': 5, 'inch': 4, 'cms': 4, 'ar...\n",
              "                               ...                        \n",
              "50419    {'storage': 4, 'strontium': 3, 'gb': 3, 'memor...\n",
              "50420    {'crossbeats': 1, 'wave': 1, 'waterproof': 1, ...\n",
              "50421    {'karbonn': 4, 'titanium': 4, 'wind': 4, 'w': ...\n",
              "50422    {'phone': 11, 'guru': 9, 'samsung': 8, 'fm': 8...\n",
              "50423    {'micromax': 1, 'canvas': 1, 'win': 1, 'w': 1,...\n",
              "Name: Description_clr, Length: 50423, dtype: object"
            ]
          },
          "metadata": {},
          "execution_count": 25
        }
      ]
    },
    {
      "cell_type": "code",
      "source": [
        "#list of category\n",
        "emotion_list=df[\"Category\"].unique().tolist()\n",
        "emotion_list"
      ],
      "metadata": {
        "colab": {
          "base_uri": "https://localhost:8080/"
        },
        "id": "GeMZWt9OEp8q",
        "outputId": "39827c70-32e3-4b10-f3f4-d62c09aadbf7"
      },
      "execution_count": 26,
      "outputs": [
        {
          "output_type": "execute_result",
          "data": {
            "text/plain": [
              "['Household', 'Books', 'Clothing & Accessories', 'Electronics']"
            ]
          },
          "metadata": {},
          "execution_count": 26
        }
      ]
    },
    {
      "cell_type": "markdown",
      "source": [
        "Feature Engineering"
      ],
      "metadata": {
        "id": "VUiUDTeoK1U-"
      }
    },
    {
      "cell_type": "code",
      "source": [
        "#Build features \n",
        "X_feature=df[\"Description_clr\"]\n",
        "y_labels=df[\"Category\"]\n",
        "X_feature"
      ],
      "metadata": {
        "colab": {
          "base_uri": "https://localhost:8080/"
        },
        "id": "b4zFVG5HKNEf",
        "outputId": "60e7a15c-a785-475f-8763-21996f91d031"
      },
      "execution_count": 27,
      "outputs": [
        {
          "output_type": "execute_result",
          "data": {
            "text/plain": [
              "0        saf floral framed painting wood  inch x  inch ...\n",
              "1        saf uv textured modern art print framed painti...\n",
              "2        saf flower print framed painting synthetic  in...\n",
              "3        incredible gifts india wooden happy birthday u...\n",
              "4        pitaara box romantic venice canvas painting mm...\n",
              "                               ...                        \n",
              "50419    strontium microsd class  gb memory card black ...\n",
              "50420    crossbeats wave waterproof bluetooth wireless ...\n",
              "50421    karbonn titanium wind w white karbonn titanium...\n",
              "50422    samsung guru fm plus smbed black colourblack c...\n",
              "50423                          micromax canvas win w white\n",
              "Name: Description_clr, Length: 50423, dtype: object"
            ]
          },
          "metadata": {},
          "execution_count": 27
        }
      ]
    },
    {
      "cell_type": "code",
      "source": [
        "from sklearn.feature_extraction.text import CountVectorizer\n",
        "#vectorizer\n",
        "cv=CountVectorizer()\n",
        "X=cv.fit_transform(X_feature)"
      ],
      "metadata": {
        "id": "2CVR9zMsKrFm"
      },
      "execution_count": 28,
      "outputs": []
    },
    {
      "cell_type": "code",
      "source": [
        "#Get features by Name\n",
        "cv.get_feature_names()"
      ],
      "metadata": {
        "id": "D69Z6OJdLGrC",
        "colab": {
          "base_uri": "https://localhost:8080/"
        },
        "outputId": "97ce1ae4-6964-4bbf-cecf-7ce60f97697f"
      },
      "execution_count": 29,
      "outputs": [
        {
          "output_type": "stream",
          "name": "stderr",
          "text": [
            "/usr/local/lib/python3.7/dist-packages/sklearn/utils/deprecation.py:87: FutureWarning: Function get_feature_names is deprecated; get_feature_names is deprecated in 1.0 and will be removed in 1.2. Please use get_feature_names_out instead.\n",
            "  warnings.warn(msg, category=FutureWarning)\n"
          ]
        },
        {
          "output_type": "execute_result",
          "data": {
            "text/plain": [
              "['aa',\n",
              " 'aaa',\n",
              " 'aaaaa',\n",
              " 'aaabattery',\n",
              " 'aaas',\n",
              " 'aaatype',\n",
              " 'aaausers',\n",
              " 'aab',\n",
              " 'aac',\n",
              " 'aacapeflacmpoggrmwma',\n",
              " 'aachen',\n",
              " 'aacmpwavamr',\n",
              " 'aacup',\n",
              " 'aadhaar',\n",
              " 'aadhar',\n",
              " 'aadhunik',\n",
              " 'aadhya',\n",
              " 'aadi',\n",
              " 'aadinath',\n",
              " 'aadit',\n",
              " 'aadjustable',\n",
              " 'aadmis',\n",
              " 'aadmora',\n",
              " 'aadvay',\n",
              " 'aafiya',\n",
              " 'aafjesvan',\n",
              " 'aafm',\n",
              " 'aai',\n",
              " 'aaiffel',\n",
              " 'aaina',\n",
              " 'aaj',\n",
              " 'aakansha',\n",
              " 'aakash',\n",
              " 'aakrithi',\n",
              " 'aal',\n",
              " 'aaleezah',\n",
              " 'aalim',\n",
              " 'aam',\n",
              " 'aamazing',\n",
              " 'aamchur',\n",
              " 'aamer',\n",
              " 'aameria',\n",
              " 'aamilne',\n",
              " 'aamras',\n",
              " 'aan',\n",
              " 'aandhi',\n",
              " 'aandwiches',\n",
              " 'aaneither',\n",
              " 'aani',\n",
              " 'aania',\n",
              " 'aanya',\n",
              " 'aanyacentric',\n",
              " 'aao',\n",
              " 'aaraaar',\n",
              " 'aaram',\n",
              " 'aarathi',\n",
              " 'aarav',\n",
              " 'aarbee',\n",
              " 'aarfa',\n",
              " 'aari',\n",
              " 'aarika',\n",
              " 'aarka',\n",
              " 'aarohi',\n",
              " 'aaron',\n",
              " 'aaronjeannettes',\n",
              " 'aaronovitch',\n",
              " 'aaroora',\n",
              " 'aarsun',\n",
              " 'aart',\n",
              " 'aarti',\n",
              " 'aas',\n",
              " 'aasa',\n",
              " 'aashi',\n",
              " 'aashiqui',\n",
              " 'aashirvaad',\n",
              " 'aashirya',\n",
              " 'aashto',\n",
              " 'aashu',\n",
              " 'aasize',\n",
              " 'aasnas',\n",
              " 'aassembly',\n",
              " 'aata',\n",
              " 'aati',\n",
              " 'aattractive',\n",
              " 'aatu',\n",
              " 'aaup',\n",
              " 'aaux',\n",
              " 'aavante',\n",
              " 'aavclubcom',\n",
              " 'aavishkar',\n",
              " 'aavjo',\n",
              " 'aayog',\n",
              " 'aazeem',\n",
              " 'ab',\n",
              " 'aba',\n",
              " 'abaaabunder',\n",
              " 'ababa',\n",
              " 'abacus',\n",
              " 'abandon',\n",
              " 'abandoned',\n",
              " 'abandoning',\n",
              " 'abandons',\n",
              " 'abap',\n",
              " 'abarata',\n",
              " 'abavb',\n",
              " 'abaya',\n",
              " 'abayas',\n",
              " 'abba',\n",
              " 'abbas',\n",
              " 'abbasi',\n",
              " 'abbasid',\n",
              " 'abbe',\n",
              " 'abbey',\n",
              " 'abbott',\n",
              " 'abbreviation',\n",
              " 'abbreviations',\n",
              " 'abby',\n",
              " 'abbyhus',\n",
              " 'abbyhususe',\n",
              " 'abc',\n",
              " 'abccomfor',\n",
              " 'abcd',\n",
              " 'abcdab',\n",
              " 'abcdand',\n",
              " 'abcnewscom',\n",
              " 'abcs',\n",
              " 'abd',\n",
              " 'abda',\n",
              " 'abdomen',\n",
              " 'abdomenhips',\n",
              " 'abdominal',\n",
              " 'abdominopelvic',\n",
              " 'abdool',\n",
              " 'abdul',\n",
              " 'abduljabbar',\n",
              " 'abduljabbari',\n",
              " 'abdullah',\n",
              " 'abe',\n",
              " 'abec',\n",
              " 'abee',\n",
              " 'abel',\n",
              " 'aberdeen',\n",
              " 'abergavenny',\n",
              " 'aberrant',\n",
              " 'aberration',\n",
              " 'aberrations',\n",
              " 'aberrationwaterproof',\n",
              " 'aberystwyth',\n",
              " 'abgn',\n",
              " 'abgnac',\n",
              " 'abha',\n",
              " 'abhay',\n",
              " 'abhaya',\n",
              " 'abhi',\n",
              " 'abhiabhi',\n",
              " 'abhigyan',\n",
              " 'abhijeet',\n",
              " 'abhinav',\n",
              " 'abhishek',\n",
              " 'abhista',\n",
              " 'abhivriti',\n",
              " 'abhiyaan',\n",
              " 'abhiyan',\n",
              " 'abhiyanta',\n",
              " 'abhiyogyata',\n",
              " 'abhm',\n",
              " 'abhor',\n",
              " 'abhorrence',\n",
              " 'abi',\n",
              " 'abide',\n",
              " 'abided',\n",
              " 'abiding',\n",
              " 'abie',\n",
              " 'abies',\n",
              " 'abigail',\n",
              " 'abilities',\n",
              " 'abilitieschoice',\n",
              " 'abilitiesif',\n",
              " 'ability',\n",
              " 'abilityaptitude',\n",
              " 'abilitygeneral',\n",
              " 'abilityone',\n",
              " 'abilityquantitative',\n",
              " 'abilitywhilst',\n",
              " 'abiti',\n",
              " 'abito',\n",
              " 'abj',\n",
              " 'abject',\n",
              " 'abjection',\n",
              " 'able',\n",
              " 'ableconn',\n",
              " 'ablity',\n",
              " 'ablowing',\n",
              " 'ably',\n",
              " 'abm',\n",
              " 'abnormal',\n",
              " 'abnormalities',\n",
              " 'abnormality',\n",
              " 'abo',\n",
              " 'aboard',\n",
              " 'abode',\n",
              " 'abolished',\n",
              " 'abolishes',\n",
              " 'abominations',\n",
              " 'abony',\n",
              " 'aboriginal',\n",
              " 'aborn',\n",
              " 'aborted',\n",
              " 'abortion',\n",
              " 'abortions',\n",
              " 'abortionsjust',\n",
              " 'abortionthat',\n",
              " 'abortive',\n",
              " 'abound',\n",
              " 'abounds',\n",
              " 'aboundthe',\n",
              " 'abour',\n",
              " 'about',\n",
              " 'abouta',\n",
              " 'aboutand',\n",
              " 'aboutbecause',\n",
              " 'aboutbut',\n",
              " 'aboutcm',\n",
              " 'aboutcom',\n",
              " 'abouteasytearoff',\n",
              " 'aboutg',\n",
              " 'aboutseth',\n",
              " 'aboutthefit',\n",
              " 'aboutthis',\n",
              " 'aboutusa',\n",
              " 'aboutwhile',\n",
              " 'above',\n",
              " 'abovea',\n",
              " 'aboveand',\n",
              " 'abovebut',\n",
              " 'abovecustomer',\n",
              " 'abovedue',\n",
              " 'abovedueto',\n",
              " 'abovefloor',\n",
              " 'aboveideal',\n",
              " 'aboveit',\n",
              " 'aboveitem',\n",
              " 'aboveled',\n",
              " 'abovemeanwhile',\n",
              " 'abovementioned',\n",
              " 'abovephone',\n",
              " 'aboveplease',\n",
              " 'abovespecification',\n",
              " 'abovethe',\n",
              " 'abovethis',\n",
              " 'aboveworkingto',\n",
              " 'abp',\n",
              " 'abpp',\n",
              " 'abracadabra',\n",
              " 'abraham',\n",
              " 'abrahams',\n",
              " 'abram',\n",
              " 'abrams',\n",
              " 'abramson',\n",
              " 'abrasion',\n",
              " 'abrasionfree',\n",
              " 'abrasionresistant',\n",
              " 'abrasions',\n",
              " 'abrasionstretchable',\n",
              " 'abrasive',\n",
              " 'abrasives',\n",
              " 'abreast',\n",
              " 'abri',\n",
              " 'abridged',\n",
              " 'abridgement',\n",
              " 'abridgment',\n",
              " 'abridgments',\n",
              " 'abright',\n",
              " 'abrigrommetcurtainsvalancespanelsstyle',\n",
              " 'abro',\n",
              " 'abroad',\n",
              " 'abroada',\n",
              " 'abronix',\n",
              " 'abruptly',\n",
              " 'abruzzi',\n",
              " 'abs',\n",
              " 'absactual',\n",
              " 'absales',\n",
              " 'abscolor',\n",
              " 'abscolour',\n",
              " 'abscompatibility',\n",
              " 'absence',\n",
              " 'absent',\n",
              " 'absfull',\n",
              " 'absmetaltpu',\n",
              " 'absolute',\n",
              " 'absolutebest',\n",
              " 'absolutely',\n",
              " 'absolutism',\n",
              " 'absolutist',\n",
              " 'absorb',\n",
              " 'absorbable',\n",
              " 'absorbance',\n",
              " 'absorbant',\n",
              " 'absorbed',\n",
              " 'absorbency',\n",
              " 'absorbencyeurospa',\n",
              " 'absorbent',\n",
              " 'absorbentbreathablesmooth',\n",
              " 'absorbenthighgroscopic',\n",
              " 'absorbentmop',\n",
              " 'absorber',\n",
              " 'absorbia',\n",
              " 'absorbing',\n",
              " 'absorbingcomplications',\n",
              " 'absorbs',\n",
              " 'absorbtion',\n",
              " 'absorbtionsoft',\n",
              " 'absorpt',\n",
              " 'absorption',\n",
              " 'absorptionfast',\n",
              " 'absorptionflexible',\n",
              " 'absorptive',\n",
              " 'abspcstrap',\n",
              " 'absplastic',\n",
              " 'absplusmetal',\n",
              " 'abspower',\n",
              " 'abspp',\n",
              " 'absproduct',\n",
              " 'absrobent',\n",
              " 'absrubbertaps',\n",
              " 'absstainless',\n",
              " 'absstainlessit',\n",
              " 'abssteel',\n",
              " 'abstinence',\n",
              " 'abstinent',\n",
              " 'abstprcolor',\n",
              " 'abstrack',\n",
              " 'abstract',\n",
              " 'abstracted',\n",
              " 'abstraction',\n",
              " 'abstractions',\n",
              " 'absurd',\n",
              " 'absurdism',\n",
              " 'absurdities',\n",
              " 'absurdity',\n",
              " 'absurdly',\n",
              " 'abswhite',\n",
              " 'abt',\n",
              " 'abta',\n",
              " 'abtrix',\n",
              " 'abu',\n",
              " 'abuba',\n",
              " 'abubaker',\n",
              " 'abuela',\n",
              " 'abul',\n",
              " 'abundance',\n",
              " 'abundanceexcellent',\n",
              " 'abundant',\n",
              " 'abundantly',\n",
              " 'abuse',\n",
              " 'abused',\n",
              " 'abuses',\n",
              " 'abusive',\n",
              " 'abuzz',\n",
              " 'abvp',\n",
              " 'abx',\n",
              " 'abxy',\n",
              " 'aby',\n",
              " 'abysmal',\n",
              " 'abysmally',\n",
              " 'abyssinia',\n",
              " 'abzorbit',\n",
              " 'abzorbtit',\n",
              " 'ac',\n",
              " 'acacia',\n",
              " 'acadameseinstead',\n",
              " 'academe',\n",
              " 'academia',\n",
              " 'academiapostmodernism',\n",
              " 'academic',\n",
              " 'academically',\n",
              " 'academicas',\n",
              " 'academicchronicle',\n",
              " 'academician',\n",
              " 'academicians',\n",
              " 'academicpearson',\n",
              " 'academics',\n",
              " 'academies',\n",
              " 'academy',\n",
              " 'acadia',\n",
              " 'acafadajxx',\n",
              " 'acai',\n",
              " 'acaro',\n",
              " 'acatech',\n",
              " 'acb',\n",
              " 'acc',\n",
              " 'accedental',\n",
              " 'accelerate',\n",
              " 'accelerated',\n",
              " 'accelerates',\n",
              " 'accelerating',\n",
              " 'acceleration',\n",
              " 'accelerator',\n",
              " 'acceleratorspart',\n",
              " 'accelerometer',\n",
              " 'accelerometers',\n",
              " 'accent',\n",
              " 'accentaudiofile',\n",
              " 'accented',\n",
              " 'accenting',\n",
              " 'accents',\n",
              " 'accentsbedroombaby',\n",
              " 'accentuate',\n",
              " 'accentuated',\n",
              " 'accentuates',\n",
              " 'accenture',\n",
              " 'accenturecomusencompanyjameswilson',\n",
              " 'accenturecomusencompanypauldaugherty',\n",
              " 'accentures',\n",
              " 'accept',\n",
              " 'acceptable',\n",
              " 'acceptance',\n",
              " 'acceptancenorman',\n",
              " 'acceptancenot',\n",
              " 'accepted',\n",
              " 'accepting',\n",
              " 'accepts',\n",
              " 'accesories',\n",
              " 'accesoriesdinning',\n",
              " 'accesory',\n",
              " 'access',\n",
              " 'accessand',\n",
              " 'accessed',\n",
              " 'accessedhigh',\n",
              " 'accesses',\n",
              " 'accessib',\n",
              " 'accessibility',\n",
              " 'accessible',\n",
              " 'accessiblejeremy',\n",
              " 'accessiblejohn',\n",
              " 'accessiblereading',\n",
              " 'accessiblethe',\n",
              " 'accessibly',\n",
              " 'accessing',\n",
              " 'accession',\n",
              " 'accessories',\n",
              " 'accessoriesblack',\n",
              " 'accessorieschrome',\n",
              " 'accessoriesclothestablet',\n",
              " 'accessoriescreate',\n",
              " 'accessorieseasily',\n",
              " 'accessoriesfilter',\n",
              " 'accessoriesgadgets',\n",
              " 'accessoriesgrill',\n",
              " 'accessorieshardware',\n",
              " 'accessorieshigh',\n",
              " 'accessorieshpk',\n",
              " 'accessoriesin',\n",
              " 'accessoriesit',\n",
              " 'accessoriesmake',\n",
              " 'accessoriesmaterialdurable',\n",
              " 'accessoriesnoteplease',\n",
              " 'accessoriesoccasion',\n",
              " 'accessoriesperfect',\n",
              " 'accessoriesshower',\n",
              " 'accessoriesstrong',\n",
              " 'accessoriesthis',\n",
              " 'accessoriestype',\n",
              " 'accessoriestypetoilet',\n",
              " 'accessoriesuse',\n",
              " 'accessorieswaterproof',\n",
              " 'accessorieswithout',\n",
              " 'accessoriesx',\n",
              " 'accessoriesyou',\n",
              " 'accessorirs',\n",
              " 'accessorise',\n",
              " 'accessorising',\n",
              " 'accessorize',\n",
              " 'accessory',\n",
              " 'accessoryget',\n",
              " 'accessoryperfect',\n",
              " 'accessorysmall',\n",
              " 'accessoryusa',\n",
              " 'accessoryworks',\n",
              " 'accessseparate',\n",
              " 'accesssturby',\n",
              " 'accessup',\n",
              " 'accezory',\n",
              " 'accident',\n",
              " 'accidental',\n",
              " 'accidentally',\n",
              " 'accidentand',\n",
              " 'accidently',\n",
              " 'accidentmodern',\n",
              " 'accidents',\n",
              " 'accidentthe',\n",
              " 'acclaim',\n",
              " 'acclaimed',\n",
              " 'acclerates',\n",
              " 'acclimated',\n",
              " 'accm',\n",
              " 'accolades',\n",
              " 'accomes',\n",
              " 'accommodate',\n",
              " 'accommodated',\n",
              " 'accommodates',\n",
              " 'accommodating',\n",
              " 'accommodation',\n",
              " 'accommodations',\n",
              " 'accomodating',\n",
              " 'accompanied',\n",
              " 'accompanies',\n",
              " 'accompaniment',\n",
              " 'accompany',\n",
              " 'accompanying',\n",
              " 'accomplices',\n",
              " 'accomplish',\n",
              " 'accomplished',\n",
              " 'accomplishedclimber',\n",
              " 'accomplishes',\n",
              " 'accomplishing',\n",
              " 'accomplishment',\n",
              " 'accomplishments',\n",
              " 'accord',\n",
              " 'accordance',\n",
              " 'accorded',\n",
              " 'according',\n",
              " 'accordingly',\n",
              " 'accordinglycaution',\n",
              " 'accordinglyeven',\n",
              " 'accordinglyquickkneading',\n",
              " 'accordion',\n",
              " 'accordionstyle',\n",
              " 'accords',\n",
              " 'account',\n",
              " 'accountability',\n",
              " 'accountable',\n",
              " 'accountancy',\n",
              " 'accountannemarie',\n",
              " 'accountant',\n",
              " 'accountants',\n",
              " 'accounted',\n",
              " 'accounting',\n",
              " 'accountingtheory',\n",
              " 'accountmasterly',\n",
              " 'accounts',\n",
              " 'accountshave',\n",
              " 'accounttakes',\n",
              " 'accountthe',\n",
              " 'accouting',\n",
              " 'accox',\n",
              " 'accqcm',\n",
              " 'accra',\n",
              " 'accreditation',\n",
              " 'accredited',\n",
              " 'accretions',\n",
              " 'accros',\n",
              " 'accross',\n",
              " 'accrued',\n",
              " 'accruing',\n",
              " 'acctltpch',\n",
              " 'accu',\n",
              " 'accucore',\n",
              " 'acculturation',\n",
              " 'accumeasure',\n",
              " 'accumulate',\n",
              " 'accumulated',\n",
              " 'accumulates',\n",
              " 'accumulating',\n",
              " 'accumulation',\n",
              " 'accumulations',\n",
              " 'accupressure',\n",
              " 'accuracy',\n",
              " 'accuracydistinctive',\n",
              " 'accuracykmh',\n",
              " 'accuracymeasuring',\n",
              " 'accuracymmmselflevelling',\n",
              " 'accuracyreads',\n",
              " 'accuracythe',\n",
              " 'accuracyy',\n",
              " 'accurate',\n",
              " 'accurately',\n",
              " 'accuratelyin',\n",
              " 'accuratelyusing',\n",
              " 'accusation',\n",
              " 'accusations',\n",
              " 'accused',\n",
              " 'accustic',\n",
              " 'accustomed',\n",
              " 'acd',\n",
              " 'acdc',\n",
              " 'acdcpower',\n",
              " 'acds',\n",
              " 'acdts',\n",
              " 'ace',\n",
              " 'acecertified',\n",
              " 'aceenggpublications',\n",
              " 'acemoglu',\n",
              " 'acer',\n",
              " 'acessories',\n",
              " 'acessory',\n",
              " 'acetate',\n",
              " 'acetic',\n",
              " 'acetobacter',\n",
              " 'acetyl',\n",
              " 'acetylene',\n",
              " 'acgcpac',\n",
              " 'acgihihl',\n",
              " 'achal',\n",
              " 'achap',\n",
              " 'acharya',\n",
              " 'acharyas',\n",
              " 'acharyashunyacom',\n",
              " 'achchagam',\n",
              " 'ache',\n",
              " 'achebe',\n",
              " 'ached',\n",
              " 'acheive',\n",
              " 'acheiving',\n",
              " 'aches',\n",
              " 'achievable',\n",
              " 'achieve',\n",
              " 'achieveand',\n",
              " 'achieveby',\n",
              " 'achieved',\n",
              " 'achievedit',\n",
              " 'achievement',\n",
              " 'achievementpublishers',\n",
              " 'achievementroger',\n",
              " 'achievements',\n",
              " 'achiever',\n",
              " 'achievers',\n",
              " 'achieves',\n",
              " 'achieving',\n",
              " 'achilles',\n",
              " 'achillesa',\n",
              " 'aching',\n",
              " 'achingly',\n",
              " 'achive',\n",
              " 'achived',\n",
              " 'achkan',\n",
              " 'achomewalltravel',\n",
              " 'achromatic',\n",
              " 'achy',\n",
              " 'achyuta',\n",
              " 'aci',\n",
              " 'acid',\n",
              " 'acidattack',\n",
              " 'acidbase',\n",
              " 'acide',\n",
              " 'acidfree',\n",
              " 'acidic',\n",
              " 'acidity',\n",
              " 'acidless',\n",
              " 'acids',\n",
              " 'acidvitamin',\n",
              " 'acidwere',\n",
              " 'aciman',\n",
              " 'acimans',\n",
              " 'acing',\n",
              " 'aciproof',\n",
              " 'acirc',\n",
              " 'ackage',\n",
              " 'ackerman',\n",
              " 'ackermans',\n",
              " 'acknowledge',\n",
              " 'acknowledged',\n",
              " 'acknowledgementsglossarysourcesalso',\n",
              " 'acknowledges',\n",
              " 'acknowledging',\n",
              " 'acknowledgment',\n",
              " 'aclu',\n",
              " 'acm',\n",
              " 'acmthis',\n",
              " 'acn',\n",
              " 'acne',\n",
              " 'acnllblack',\n",
              " 'aco',\n",
              " 'acompliant',\n",
              " 'acomprehensive',\n",
              " 'acorns',\n",
              " 'acorus',\n",
              " 'acotton',\n",
              " 'acoustic',\n",
              " 'acoustical',\n",
              " 'acoustically',\n",
              " 'acousticallybased',\n",
              " 'acoustics',\n",
              " 'acoustik',\n",
              " 'acpf',\n",
              " 'acpi',\n",
              " 'acpower',\n",
              " 'acquaint',\n",
              " 'acquaintance',\n",
              " 'acquaintances',\n",
              " 'acquainted',\n",
              " 'acquaints',\n",
              " 'acquiescence',\n",
              " 'acquiescent',\n",
              " 'acquire',\n",
              " 'acquired',\n",
              " 'acquiredmassive',\n",
              " 'acquires',\n",
              " 'acquiring',\n",
              " 'acquisition',\n",
              " 'acquisitionpat',\n",
              " 'acquisitions',\n",
              " 'acquisitionsand',\n",
              " 'acquisitionsdispositions',\n",
              " 'acquit',\n",
              " 'acr',\n",
              " 'acrange',\n",
              " 'acrated',\n",
              " 'acre',\n",
              " 'acreage',\n",
              " 'acres',\n",
              " 'acrid',\n",
              " 'acrimonious',\n",
              " 'acrlyic',\n",
              " 'acro',\n",
              " 'acrobat',\n",
              " 'acronis',\n",
              " 'acronym',\n",
              " 'acronyms',\n",
              " 'across',\n",
              " 'acrosslarry',\n",
              " 'acrostics',\n",
              " 'acrowool',\n",
              " 'acrylic',\n",
              " 'acrylicabout',\n",
              " 'acrylicbased',\n",
              " 'acryliccottonleatherpolyesterwool',\n",
              " 'acrylics',\n",
              " 'acrylicsize',\n",
              " 'acrylicweight',\n",
              " 'acrylonitrile',\n",
              " 'acs',\n",
              " 'act',\n",
              " 'actc',\n",
              " 'acted',\n",
              " 'actfollowing',\n",
              " 'actibe',\n",
              " 'acting',\n",
              " 'actinglos',\n",
              " 'action',\n",
              " 'actionable',\n",
              " 'actionablethat',\n",
              " 'actionbased',\n",
              " 'actionbright',\n",
              " 'actionfor',\n",
              " 'actionhounds',\n",
              " 'actionin',\n",
              " 'actionpacked',\n",
              " 'actions',\n",
              " 'actionsamurai',\n",
              " 'actionsara',\n",
              " 'actionsee',\n",
              " 'actionslike',\n",
              " 'actionthe',\n",
              " 'actionthis',\n",
              " 'actionuse',\n",
              " 'activate',\n",
              " 'activated',\n",
              " 'activatedcarbon',\n",
              " 'activates',\n",
              " 'activating',\n",
              " 'activation',\n",
              " 'activationdry',\n",
              " 'activator',\n",
              " 'active',\n",
              " 'activecom',\n",
              " 'actived',\n",
              " 'actively',\n",
              " 'activepowered',\n",
              " 'activewalk',\n",
              " 'activewater',\n",
              " 'activewear',\n",
              " 'activewearsportswear',\n",
              " 'activism',\n",
              " 'activist',\n",
              " 'activists',\n",
              " 'activities',\n",
              " 'activitiescomfortable',\n",
              " 'activitiesfeatures',\n",
              " 'activitiesfpvbikingdashcamdivinghome',\n",
              " 'activitiespackage',\n",
              " 'activitiesspecificationmaterial',\n",
              " 'activitiessportshippopgolfsun',\n",
              " 'activitiesthe',\n",
              " 'activitiesunique',\n",
              " 'activitieswedding',\n",
              " 'activitieswith',\n",
              " 'activity',\n",
              " 'activitybased',\n",
              " 'activitycasual',\n",
              " 'activityeasy',\n",
              " 'activityhow',\n",
              " 'activityserialata',\n",
              " 'activkids',\n",
              " 'actman',\n",
              " 'actodc',\n",
              " 'actor',\n",
              " 'actorcomedian',\n",
              " 'actorcomicwriter',\n",
              " 'actorit',\n",
              " 'actors',\n",
              " 'actorsas',\n",
              " 'actorsfor',\n",
              " 'actorsqutbs',\n",
              " 'actress',\n",
              " 'actresses',\n",
              " 'acts',\n",
              " 'actual',\n",
              " 'actualfree',\n",
              " 'actually',\n",
              " 'actualmagnification',\n",
              " 'actwhich',\n",
              " 'acuity',\n",
              " 'acuitywashington',\n",
              " 'aculon',\n",
              " 'acumen',\n",
              " 'acup',\n",
              " 'acupressure',\n",
              " 'acupressures',\n",
              " 'acupuncture',\n",
              " 'acupuncturist',\n",
              " 'acura',\n",
              " 'acurite',\n",
              " 'acutas',\n",
              " 'acute',\n",
              " 'acutely',\n",
              " 'acuteness',\n",
              " 'acuyoga',\n",
              " 'acv',\n",
              " 'acvhz',\n",
              " 'acvproduct',\n",
              " 'acvs',\n",
              " 'acvv',\n",
              " 'acvw',\n",
              " 'acw',\n",
              " 'acxl',\n",
              " 'acxx',\n",
              " 'acxxpavilion',\n",
              " 'acylation',\n",
              " 'ad',\n",
              " 'ada',\n",
              " 'adagabbox',\n",
              " 'adage',\n",
              " 'adahabbox',\n",
              " 'adam',\n",
              " 'adamant',\n",
              " 'adams',\n",
              " 'adamson',\n",
              " 'adapa',\n",
              " 'adapater',\n",
              " 'adaper',\n",
              " 'adapt',\n",
              " 'adaptability',\n",
              " 'adaptable',\n",
              " 'adaptar',\n",
              " 'adaptation',\n",
              " 'adaptations',\n",
              " 'adapte',\n",
              " 'adapted',\n",
              " 'adapter',\n",
              " 'adapterbis',\n",
              " 'adapterblack',\n",
              " 'adaptercameraprintercharger',\n",
              " 'adaptercar',\n",
              " 'adapterconnector',\n",
              " 'adapterconverter',\n",
              " 'adapterdata',\n",
              " 'adapterensure',\n",
              " 'adapterfeatures',\n",
              " 'adaptergeneral',\n",
              " 'adapterinput',\n",
              " 'adapteriver',\n",
              " 'adapterkbit',\n",
              " 'adapterkeeping',\n",
              " 'adapterlens',\n",
              " 'adaptermm',\n",
              " 'adaptermounting',\n",
              " 'adapterneed',\n",
              " 'adapternew',\n",
              " 'adapternotesonly',\n",
              " 'adapterreceiver',\n",
              " 'adapters',\n",
              " 'adapterschargers',\n",
              " 'adapterthe',\n",
              " 'adaptertravel',\n",
              " 'adapteruniverse',\n",
              " 'adapterusb',\n",
              " 'adapterx',\n",
              " 'adapterxxcmxxinchlxwxt',\n",
              " 'adapting',\n",
              " 'adaption',\n",
              " 'adaptive',\n",
              " 'adaptively',\n",
              " 'adapto',\n",
              " 'adaptor',\n",
              " 'adaptorits',\n",
              " 'adaptors',\n",
              " 'adaptorwindows',\n",
              " 'adaptorx',\n",
              " 'adaptpr',\n",
              " 'adapts',\n",
              " 'adata',\n",
              " 'adatas',\n",
              " 'adater',\n",
              " 'adaz',\n",
              " 'adb',\n",
              " 'adbcuks',\n",
              " 'adbm',\n",
              " 'adbucks',\n",
              " 'adc',\n",
              " 'adcom',\n",
              " 'add',\n",
              " 'added',\n",
              " 'addedvalue',\n",
              " 'addenbrookes',\n",
              " 'addgear',\n",
              " 'addict',\n",
              " 'addicted',\n",
              " 'addiction',\n",
              " 'addictionrelated',\n",
              " 'addictions',\n",
              " 'addictionsthe',\n",
              " 'addictionthis',\n",
              " 'addictive',\n",
              " 'addictively',\n",
              " 'addicts',\n",
              " 'addictsthe',\n",
              " 'addin',\n",
              " 'adding',\n",
              " 'addis',\n",
              " 'addison',\n",
              " 'addisonwesley',\n",
              " 'addition',\n",
              " 'additiona',\n",
              " 'additional',\n",
              " 'additionally',\n",
              " 'additionallyit',\n",
              " 'additionallythe',\n",
              " 'additionremoving',\n",
              " 'additions',\n",
              " 'additionsubtraction',\n",
              " 'additionthe',\n",
              " 'additive',\n",
              " 'additives',\n",
              " 'additivesyes',\n",
              " 'addon',\n",
              " 'addons',\n",
              " 'address',\n",
              " 'addressbased',\n",
              " 'addressed',\n",
              " 'addressedthis',\n",
              " 'addresses',\n",
              " 'addressexternal',\n",
              " 'addressing',\n",
              " 'addressmobile',\n",
              " 'addressquestions',\n",
              " 'adds',\n",
              " 'addtional',\n",
              " 'addy',\n",
              " 'addys',\n",
              " 'addyvero',\n",
              " 'adeeing',\n",
              " 'adelaide',\n",
              " 'adelaidea',\n",
              " 'adele',\n",
              " 'adeline',\n",
              " 'adeney',\n",
              " 'adennis',\n",
              " 'adenomyosis',\n",
              " 'adenosine',\n",
              " 'adept',\n",
              " 'adeptness',\n",
              " 'adepts',\n",
              " 'adequacy',\n",
              " 'adequate',\n",
              " 'adequately',\n",
              " 'adequatelysized',\n",
              " 'aders',\n",
              " 'adf',\n",
              " 'adfl',\n",
              " 'adham',\n",
              " 'adhd',\n",
              " 'adhere',\n",
              " 'adhered',\n",
              " 'adherence',\n",
              " 'adherent',\n",
              " 'adheres',\n",
              " 'adhering',\n",
              " 'adhesion',\n",
              " 'adhesiontry',\n",
              " 'adhesive',\n",
              " 'adhesivebacked',\n",
              " 'adhesivebacking',\n",
              " 'adhesivecare',\n",
              " 'adhesivefree',\n",
              " 'adhesiveness',\n",
              " 'adhesiveperfect',\n",
              " 'adhesives',\n",
              " 'adhessive',\n",
              " ...]"
            ]
          },
          "metadata": {},
          "execution_count": 29
        }
      ]
    },
    {
      "cell_type": "code",
      "source": [
        "#Transformers\n",
        "from sklearn.model_selection import train_test_split\n",
        "from sklearn.metrics import accuracy_score,classification_report,confusion_matrix"
      ],
      "metadata": {
        "id": "FTkZa43ZLbs4"
      },
      "execution_count": 30,
      "outputs": []
    },
    {
      "cell_type": "code",
      "source": [
        "#splitting the dataset\n",
        "#Here we have split the data into 70-30 into train and test data\n",
        "X_train,X_test,y_train,y_test=train_test_split(X,y_labels,test_size=0.3,random_state=42)"
      ],
      "metadata": {
        "id": "DJFklWdwjN7y"
      },
      "execution_count": 31,
      "outputs": []
    },
    {
      "cell_type": "markdown",
      "source": [
        "Model training"
      ],
      "metadata": {
        "id": "LVKQD4c0jjYJ"
      }
    },
    {
      "cell_type": "code",
      "source": [
        "# Load ml packages\n",
        "# Estimators\n",
        "from sklearn.linear_model import LogisticRegression\n",
        "from xgboost import XGBClassifier"
      ],
      "metadata": {
        "id": "2osECy_Tji3Y"
      },
      "execution_count": 32,
      "outputs": []
    },
    {
      "cell_type": "code",
      "source": [
        "#model_training_Naive_Bayes\n",
        "nv_model=MultinomialNB()\n",
        "nv_model.fit(X_train,y_train)"
      ],
      "metadata": {
        "colab": {
          "base_uri": "https://localhost:8080/"
        },
        "id": "j8q3pwW7j-nm",
        "outputId": "a08e6653-b3cb-4255-a503-2f1fc415f2be"
      },
      "execution_count": 33,
      "outputs": [
        {
          "output_type": "execute_result",
          "data": {
            "text/plain": [
              "MultinomialNB()"
            ]
          },
          "metadata": {},
          "execution_count": 33
        }
      ]
    },
    {
      "cell_type": "code",
      "source": [
        "nv_model.score(X_test,y_test)"
      ],
      "metadata": {
        "colab": {
          "base_uri": "https://localhost:8080/"
        },
        "id": "o19lbizWnycs",
        "outputId": "b8ead70c-7c48-4636-e213-1a02a007dc2c"
      },
      "execution_count": 34,
      "outputs": [
        {
          "output_type": "execute_result",
          "data": {
            "text/plain": [
              "0.9512130627355061"
            ]
          },
          "metadata": {},
          "execution_count": 34
        }
      ]
    },
    {
      "cell_type": "code",
      "source": [
        "y_pred_for_nv=nv_model.predict(X_test)"
      ],
      "metadata": {
        "id": "ayRQUc8HwTPr"
      },
      "execution_count": 35,
      "outputs": []
    },
    {
      "cell_type": "code",
      "source": [
        "#xe_boost_model_traing\n",
        "xe_model=XGBClassifier()\n",
        "xe_model.fit(X_train,y_train)"
      ],
      "metadata": {
        "colab": {
          "base_uri": "https://localhost:8080/"
        },
        "id": "QUblkpE_pc-r",
        "outputId": "a5fceb15-fe76-4dbb-c1a7-4b10ca28aee4"
      },
      "execution_count": 39,
      "outputs": [
        {
          "output_type": "execute_result",
          "data": {
            "text/plain": [
              "XGBClassifier(objective='multi:softprob')"
            ]
          },
          "metadata": {},
          "execution_count": 39
        }
      ]
    },
    {
      "cell_type": "code",
      "source": [
        "#accurancy for xe_boost\n",
        "xe_model.score(X_test,y_test)"
      ],
      "metadata": {
        "colab": {
          "base_uri": "https://localhost:8080/"
        },
        "id": "ikNmxXNzpxZX",
        "outputId": "cbfbe748-7290-43d4-dbd1-3559ade5499b"
      },
      "execution_count": 40,
      "outputs": [
        {
          "output_type": "execute_result",
          "data": {
            "text/plain": [
              "0.8673233291465592"
            ]
          },
          "metadata": {},
          "execution_count": 40
        }
      ]
    },
    {
      "cell_type": "code",
      "source": [
        "y_pred_for_xe=xe_model.predict(X_test)"
      ],
      "metadata": {
        "id": "gzXRO9xOxdFy"
      },
      "execution_count": 41,
      "outputs": []
    },
    {
      "cell_type": "markdown",
      "source": [
        "Making predictions"
      ],
      "metadata": {
        "id": "6M_6-sehuv7L"
      }
    },
    {
      "cell_type": "code",
      "source": [
        "sample_text=[\"3.5 to usb type-c converter\"]\n",
        "#vectorizing \n",
        "vact=cv.transform(sample_text).toarray()"
      ],
      "metadata": {
        "id": "3798PFeCuvdN"
      },
      "execution_count": 42,
      "outputs": []
    },
    {
      "cell_type": "code",
      "source": [
        "sample_tex2=[\"Dongel\"]\n",
        "#vectorizing \n",
        "vact2=cv.transform(sample_text).toarray()"
      ],
      "metadata": {
        "id": "9r6L9hTEPikr"
      },
      "execution_count": 43,
      "outputs": []
    },
    {
      "cell_type": "code",
      "source": [
        "#prediction for Naive_Bayes\n",
        "nv_model.predict(vact)"
      ],
      "metadata": {
        "colab": {
          "base_uri": "https://localhost:8080/"
        },
        "id": "MBdmx8BFvKbh",
        "outputId": "5880e8c6-2205-4035-83af-7fc0adc4f31d"
      },
      "execution_count": 44,
      "outputs": [
        {
          "output_type": "execute_result",
          "data": {
            "text/plain": [
              "array(['Electronics'], dtype='<U22')"
            ]
          },
          "metadata": {},
          "execution_count": 44
        }
      ]
    },
    {
      "cell_type": "code",
      "source": [
        "nv_model.predict(vact2)"
      ],
      "metadata": {
        "colab": {
          "base_uri": "https://localhost:8080/"
        },
        "id": "Ox-AuZk_Pqq3",
        "outputId": "9b8f52bc-830c-4d20-e67f-7694fc38f712"
      },
      "execution_count": 45,
      "outputs": [
        {
          "output_type": "execute_result",
          "data": {
            "text/plain": [
              "array(['Electronics'], dtype='<U22')"
            ]
          },
          "metadata": {},
          "execution_count": 45
        }
      ]
    },
    {
      "cell_type": "code",
      "source": [
        "#prediction for Xe_Boost\n",
        "xe_model.predict(vact)"
      ],
      "metadata": {
        "colab": {
          "base_uri": "https://localhost:8080/"
        },
        "id": "K-bTu7jJvfwb",
        "outputId": "aa44bce7-90b4-4cbc-826a-d5c028dbddf4"
      },
      "execution_count": 48,
      "outputs": [
        {
          "output_type": "execute_result",
          "data": {
            "text/plain": [
              "array(['Electronics'], dtype=object)"
            ]
          },
          "metadata": {},
          "execution_count": 48
        }
      ]
    },
    {
      "cell_type": "code",
      "source": [
        "xe_model.predict(vact2)"
      ],
      "metadata": {
        "colab": {
          "base_uri": "https://localhost:8080/"
        },
        "id": "6nYVuouhPq5v",
        "outputId": "953d95fc-3f3e-4a13-81c0-3ef8404d4a6f"
      },
      "execution_count": 49,
      "outputs": [
        {
          "output_type": "execute_result",
          "data": {
            "text/plain": [
              "array(['Electronics'], dtype=object)"
            ]
          },
          "metadata": {},
          "execution_count": 49
        }
      ]
    },
    {
      "cell_type": "markdown",
      "source": [
        "Model Evaluation\n"
      ],
      "metadata": {
        "id": "GsVZ39dDv8lu"
      }
    },
    {
      "cell_type": "code",
      "source": [
        "#classification Report for Naive_Bayes\n",
        "print(classification_report(y_test,y_pred_for_nv))"
      ],
      "metadata": {
        "colab": {
          "base_uri": "https://localhost:8080/"
        },
        "id": "6rOX_VYpv78e",
        "outputId": "219c655d-34a8-404d-fd57-140908d47392"
      },
      "execution_count": 50,
      "outputs": [
        {
          "output_type": "stream",
          "name": "stdout",
          "text": [
            "                        precision    recall  f1-score   support\n",
            "\n",
            "                 Books       0.97      0.92      0.95      3483\n",
            "Clothing & Accessories       0.95      0.98      0.97      2618\n",
            "           Electronics       0.95      0.93      0.94      3178\n",
            "             Household       0.94      0.96      0.95      5848\n",
            "\n",
            "              accuracy                           0.95     15127\n",
            "             macro avg       0.95      0.95      0.95     15127\n",
            "          weighted avg       0.95      0.95      0.95     15127\n",
            "\n"
          ]
        }
      ]
    },
    {
      "cell_type": "code",
      "source": [
        "#Naive Bayes\n",
        "confusion_matrix(y_test,y_pred_for_nv)"
      ],
      "metadata": {
        "colab": {
          "base_uri": "https://localhost:8080/"
        },
        "id": "Ju549mJ3v8C-",
        "outputId": "a9e586d6-bf14-486e-c49a-453b99583b91"
      },
      "execution_count": 51,
      "outputs": [
        {
          "output_type": "execute_result",
          "data": {
            "text/plain": [
              "array([[3219,   54,   46,  164],\n",
              "       [   4, 2574,   10,   30],\n",
              "       [  56,   14, 2960,  148],\n",
              "       [  41,   60,  111, 5636]])"
            ]
          },
          "metadata": {},
          "execution_count": 51
        }
      ]
    },
    {
      "cell_type": "code",
      "source": [
        "#plot confusion matrix for Naive Bayes\n",
        "from sklearn.metrics import plot_confusion_matrix\n",
        "plot_confusion_matrix(nv_model,X_test,y_test)"
      ],
      "metadata": {
        "colab": {
          "base_uri": "https://localhost:8080/",
          "height": 351
        },
        "id": "dR9A0KaBv8Ie",
        "outputId": "ea316e9a-a801-494d-9489-e69873c7a79e"
      },
      "execution_count": 52,
      "outputs": [
        {
          "output_type": "stream",
          "name": "stderr",
          "text": [
            "/usr/local/lib/python3.7/dist-packages/sklearn/utils/deprecation.py:87: FutureWarning: Function plot_confusion_matrix is deprecated; Function `plot_confusion_matrix` is deprecated in 1.0 and will be removed in 1.2. Use one of the class methods: ConfusionMatrixDisplay.from_predictions or ConfusionMatrixDisplay.from_estimator.\n",
            "  warnings.warn(msg, category=FutureWarning)\n"
          ]
        },
        {
          "output_type": "execute_result",
          "data": {
            "text/plain": [
              "<sklearn.metrics._plot.confusion_matrix.ConfusionMatrixDisplay at 0x7f0ef19a7650>"
            ]
          },
          "metadata": {},
          "execution_count": 52
        },
        {
          "output_type": "display_data",
          "data": {
            "text/plain": [
              "<Figure size 432x288 with 2 Axes>"
            ],
            "image/png": "[encoded data removed]"
          },
          "metadata": {
            "needs_background": "light"
          }
        }
      ]
    },
    {
      "cell_type": "code",
      "source": [
        "#Logistic Regression\n",
        "confusion_matrix(y_test,y_pred_for_lr)"
      ],
      "metadata": {
        "colab": {
          "base_uri": "https://localhost:8080/"
        },
        "id": "GoqaNCTRx5iz",
        "outputId": "87d0e203-ec4f-4736-c809-d190f27c1e74"
      },
      "execution_count": null,
      "outputs": [
        {
          "output_type": "execute_result",
          "data": {
            "text/plain": [
              "array([[3414,    6,   19,   44],\n",
              "       [  13, 2565,    6,   34],\n",
              "       [  48,    7, 3055,   68],\n",
              "       [  56,   25,   47, 5720]])"
            ]
          },
          "metadata": {},
          "execution_count": 74
        }
      ]
    },
    {
      "cell_type": "code",
      "source": [
        "#classification Report for XEBoost\n",
        "print(classification_report(y_test,y_pred_for_xe))"
      ],
      "metadata": {
        "colab": {
          "base_uri": "https://localhost:8080/"
        },
        "id": "aeL9rx2uxw6S",
        "outputId": "06933933-b0a0-4524-ad89-0835ac9cd1e0"
      },
      "execution_count": null,
      "outputs": [
        {
          "output_type": "stream",
          "name": "stdout",
          "text": [
            "                        precision    recall  f1-score   support\n",
            "\n",
            "                 Books       0.96      0.76      0.85      3483\n",
            "Clothing & Accessories       0.95      0.91      0.93      2618\n",
            "           Electronics       0.96      0.78      0.86      3178\n",
            "             Household       0.77      0.96      0.86      5848\n",
            "\n",
            "              accuracy                           0.87     15127\n",
            "             macro avg       0.91      0.85      0.87     15127\n",
            "          weighted avg       0.89      0.87      0.87     15127\n",
            "\n"
          ]
        }
      ]
    },
    {
      "cell_type": "code",
      "source": [
        "#XEBoost\n",
        "confusion_matrix(y_test,y_pred_for_xe)"
      ],
      "metadata": {
        "colab": {
          "base_uri": "https://localhost:8080/"
        },
        "id": "1D9L2Ad5x-KR",
        "outputId": "e97a3d54-fe10-4c4a-db9e-3ae18d04c071"
      },
      "execution_count": null,
      "outputs": [
        {
          "output_type": "execute_result",
          "data": {
            "text/plain": [
              "array([[2633,   26,   18,  806],\n",
              "       [   5, 2372,   12,  229],\n",
              "       [  53,   15, 2482,  628],\n",
              "       [  45,   84,   86, 5633]])"
            ]
          },
          "metadata": {},
          "execution_count": 75
        }
      ]
    },
    {
      "cell_type": "code",
      "source": [
        "#plot confusion matrix fot XEBoost\n",
        "from sklearn.metrics import plot_confusion_matrix\n",
        "plot_confusion_matrix(xe_model,X_test,y_test)"
      ],
      "metadata": {
        "colab": {
          "base_uri": "https://localhost:8080/",
          "height": 351
        },
        "id": "q9t0DouhyLGK",
        "outputId": "6a6a6f56-6f19-4b97-9de9-c05d7068a87f"
      },
      "execution_count": null,
      "outputs": [
        {
          "output_type": "stream",
          "name": "stderr",
          "text": [
            "/usr/local/lib/python3.7/dist-packages/sklearn/utils/deprecation.py:87: FutureWarning: Function plot_confusion_matrix is deprecated; Function `plot_confusion_matrix` is deprecated in 1.0 and will be removed in 1.2. Use one of the class methods: ConfusionMatrixDisplay.from_predictions or ConfusionMatrixDisplay.from_estimator.\n",
            "  warnings.warn(msg, category=FutureWarning)\n"
          ]
        },
        {
          "output_type": "execute_result",
          "data": {
            "text/plain": [
              "<sklearn.metrics._plot.confusion_matrix.ConfusionMatrixDisplay at 0x7f358ba3db90>"
            ]
          },
          "metadata": {},
          "execution_count": 77
        },
        {
          "output_type": "display_data",
          "data": {
            "text/plain": [
              "<Figure size 432x288 with 2 Axes>"
            ],
            "image/png": "[encoded data removed]"
          },
          "metadata": {
            "needs_background": "light"
          }
        }
      ]
    }
  ]
}