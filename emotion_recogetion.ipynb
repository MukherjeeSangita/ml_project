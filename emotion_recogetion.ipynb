{
 "cells": [
  {
   "cell_type": "code",
   "execution_count": 1,
   "metadata": {},
   "outputs": [],
   "source": [
    "impo\n",
    "import pandas as pd\n",
    "import numpy as np\n",
    "import matplotlib.pyplot as plt\n",
    "import seaborn as sns"
   ]
  },
  {
   "cell_type": "code",
   "execution_count": 2,
   "metadata": {},
   "outputs": [],
   "source": [
    "df=pd.read_excel(r\"C:\\Users\\sangi\\OneDrive\\Desktop\\ml\\emotion_dataset.xlsx\")"
   ]
  },
  {
   "cell_type": "markdown",
   "metadata": {},
   "source": [
    "# checking for missing values"
   ]
  },
  {
   "cell_type": "code",
   "execution_count": 3,
   "metadata": {},
   "outputs": [
    {
     "data": {
      "text/plain": [
       "Emotion    0\n",
       "Text       6\n",
       "dtype: int64"
      ]
     },
     "execution_count": 3,
     "metadata": {},
     "output_type": "execute_result"
    }
   ],
   "source": [
    "#checking for missing values\n",
    "df.isnull().sum()"
   ]
  },
  {
   "cell_type": "markdown",
   "metadata": {},
   "source": [
    "# Visualization of data"
   ]
  },
  {
   "cell_type": "code",
   "execution_count": 4,
   "metadata": {},
   "outputs": [
    {
     "data": {
      "text/plain": [
       "joy         11045\n",
       "sadness      6722\n",
       "fear         5410\n",
       "anger        4297\n",
       "surprise     4062\n",
       "neutral      2254\n",
       "disgust       856\n",
       "shame         146\n",
       "Name: Emotion, dtype: int64"
      ]
     },
     "execution_count": 4,
     "metadata": {},
     "output_type": "execute_result"
    }
   ],
   "source": [
    "df['Emotion'].value_counts()"
   ]
  },
  {
   "cell_type": "code",
   "execution_count": 5,
   "metadata": {},
   "outputs": [
    {
     "data": {
      "text/plain": [
       "<AxesSubplot:>"
      ]
     },
     "execution_count": 5,
     "metadata": {},
     "output_type": "execute_result"
    },
    {
     "data": {
      "image/png": "[encoded data removed]",
      "text/plain": [
       "<Figure size 432x288 with 1 Axes>"
      ]
     },
     "metadata": {
      "needs_background": "light"
     },
     "output_type": "display_data"
    }
   ],
   "source": [
    "df['Emotion'].value_counts().plot(kind='bar')"
   ]
  },
  {
   "cell_type": "code",
   "execution_count": 6,
   "metadata": {},
   "outputs": [
    {
     "data": {
      "image/png": "[encoded data removed]",
      "text/plain": [
       "<Figure size 1440x720 with 1 Axes>"
      ]
     },
     "metadata": {
      "needs_background": "light"
     },
     "output_type": "display_data"
    }
   ],
   "source": [
    "#using seaborn\n",
    "plt.figure(figsize=(20,10))\n",
    "sns.countplot(x='Emotion',data=df)\n",
    "plt.show()"
   ]
  },
  {
   "cell_type": "markdown",
   "metadata": {},
   "source": [
    "# sentiment analysis"
   ]
  },
  {
   "cell_type": "code",
   "execution_count": 7,
   "metadata": {},
   "outputs": [],
   "source": [
    "from textblob import TextBlob"
   ]
  },
  {
   "cell_type": "code",
   "execution_count": 8,
   "metadata": {},
   "outputs": [],
   "source": [
    "def get_sentiment(text):\n",
    "    try:\n",
    "        sentiment=TextBlob(text).sentiment.polarity\n",
    "        if sentiment > 0:\n",
    "            result=\"positive\"\n",
    "        elif sentiment < 0:\n",
    "            result=\"negeive\"\n",
    "        else:\n",
    "            result=\"neutral\"\n",
    "        return result\n",
    "    except:\n",
    "        return None"
   ]
  },
  {
   "cell_type": "code",
   "execution_count": 9,
   "metadata": {},
   "outputs": [],
   "source": [
    "df['sentiment']=df['Text'].apply(get_sentiment)"
   ]
  },
  {
   "cell_type": "code",
   "execution_count": 10,
   "metadata": {},
   "outputs": [
    {
     "data": {
      "text/html": [
       "<div>\n",
       "<style scoped>\n",
       "    .dataframe tbody tr th:only-of-type {\n",
       "        vertical-align: middle;\n",
       "    }\n",
       "\n",
       "    .dataframe tbody tr th {\n",
       "        vertical-align: top;\n",
       "    }\n",
       "\n",
       "    .dataframe thead th {\n",
       "        text-align: right;\n",
       "    }\n",
       "</style>\n",
       "<table border=\"1\" class=\"dataframe\">\n",
       "  <thead>\n",
       "    <tr style=\"text-align: right;\">\n",
       "      <th></th>\n",
       "      <th>Emotion</th>\n",
       "      <th>Text</th>\n",
       "      <th>sentiment</th>\n",
       "    </tr>\n",
       "  </thead>\n",
       "  <tbody>\n",
       "    <tr>\n",
       "      <th>0</th>\n",
       "      <td>neutral</td>\n",
       "      <td>Why ?</td>\n",
       "      <td>neutral</td>\n",
       "    </tr>\n",
       "    <tr>\n",
       "      <th>1</th>\n",
       "      <td>joy</td>\n",
       "      <td>Sage Act upgrade on my to do list for tommorow.</td>\n",
       "      <td>neutral</td>\n",
       "    </tr>\n",
       "    <tr>\n",
       "      <th>2</th>\n",
       "      <td>sadness</td>\n",
       "      <td>ON THE WAY TO MY HOMEGIRL BABY FUNERAL!!! MAN ...</td>\n",
       "      <td>negeive</td>\n",
       "    </tr>\n",
       "    <tr>\n",
       "      <th>3</th>\n",
       "      <td>joy</td>\n",
       "      <td>Such an eye ! The true hazel eye-and so brill...</td>\n",
       "      <td>positive</td>\n",
       "    </tr>\n",
       "    <tr>\n",
       "      <th>4</th>\n",
       "      <td>joy</td>\n",
       "      <td>@Iluvmiasantos ugh babe.. hugggzzz for u .!  b...</td>\n",
       "      <td>neutral</td>\n",
       "    </tr>\n",
       "  </tbody>\n",
       "</table>\n",
       "</div>"
      ],
      "text/plain": [
       "   Emotion                                               Text sentiment\n",
       "0  neutral                                             Why ?    neutral\n",
       "1      joy    Sage Act upgrade on my to do list for tommorow.   neutral\n",
       "2  sadness  ON THE WAY TO MY HOMEGIRL BABY FUNERAL!!! MAN ...   negeive\n",
       "3      joy   Such an eye ! The true hazel eye-and so brill...  positive\n",
       "4      joy  @Iluvmiasantos ugh babe.. hugggzzz for u .!  b...   neutral"
      ]
     },
     "execution_count": 10,
     "metadata": {},
     "output_type": "execute_result"
    }
   ],
   "source": [
    "df.head()"
   ]
  },
  {
   "cell_type": "markdown",
   "metadata": {},
   "source": [
    "sns.factorplot(x=\"Emotion\",hue=\"sentiment\",data=df,kind=\"count\",size=6,aspect=1.5)"
   ]
  },
  {
   "cell_type": "markdown",
   "metadata": {},
   "source": [
    "# CLEANING THE DATA"
   ]
  },
  {
   "cell_type": "code",
   "execution_count": 11,
   "metadata": {},
   "outputs": [
    {
     "name": "stdout",
     "output_type": "stream",
     "text": [
      "Requirement already satisfied: neattext in c:\\users\\sangi\\anaconda3\\lib\\site-packages (0.1.3)\n",
      "Note: you may need to restart the kernel to use updated packages.\n"
     ]
    }
   ],
   "source": [
    "pip install neattext\n"
   ]
  },
  {
   "cell_type": "code",
   "execution_count": 12,
   "metadata": {},
   "outputs": [],
   "source": [
    "import neattext.functions as nfx"
   ]
  },
  {
   "cell_type": "code",
   "execution_count": 13,
   "metadata": {},
   "outputs": [],
   "source": [
    "#DROPPING NULL VALUES\n",
    "df. dropna( inplace = True )"
   ]
  },
  {
   "cell_type": "code",
   "execution_count": 14,
   "metadata": {},
   "outputs": [],
   "source": [
    "#REMOVING USER_HANDLS\n",
    "df['clean_text']=df['Text'].apply(nfx.remove_userhandles)"
   ]
  },
  {
   "cell_type": "code",
   "execution_count": 15,
   "metadata": {},
   "outputs": [],
   "source": [
    "#REMOVING STOP WORDS\n",
    "df['clean_text']=df['clean_text'].apply(nfx.remove_stopwords)"
   ]
  },
  {
   "cell_type": "code",
   "execution_count": 16,
   "metadata": {},
   "outputs": [],
   "source": [
    "#REMOVING PUNCTUATIONS\n",
    "df['clean_text']=df['clean_text'].apply(nfx.remove_punctuations)"
   ]
  },
  {
   "cell_type": "code",
   "execution_count": 17,
   "metadata": {},
   "outputs": [
    {
     "data": {
      "text/html": [
       "<div>\n",
       "<style scoped>\n",
       "    .dataframe tbody tr th:only-of-type {\n",
       "        vertical-align: middle;\n",
       "    }\n",
       "\n",
       "    .dataframe tbody tr th {\n",
       "        vertical-align: top;\n",
       "    }\n",
       "\n",
       "    .dataframe thead th {\n",
       "        text-align: right;\n",
       "    }\n",
       "</style>\n",
       "<table border=\"1\" class=\"dataframe\">\n",
       "  <thead>\n",
       "    <tr style=\"text-align: right;\">\n",
       "      <th></th>\n",
       "      <th>Emotion</th>\n",
       "      <th>Text</th>\n",
       "      <th>sentiment</th>\n",
       "      <th>clean_text</th>\n",
       "    </tr>\n",
       "  </thead>\n",
       "  <tbody>\n",
       "    <tr>\n",
       "      <th>0</th>\n",
       "      <td>neutral</td>\n",
       "      <td>Why ?</td>\n",
       "      <td>neutral</td>\n",
       "      <td></td>\n",
       "    </tr>\n",
       "    <tr>\n",
       "      <th>1</th>\n",
       "      <td>joy</td>\n",
       "      <td>Sage Act upgrade on my to do list for tommorow.</td>\n",
       "      <td>neutral</td>\n",
       "      <td>Sage Act upgrade list tommorow</td>\n",
       "    </tr>\n",
       "    <tr>\n",
       "      <th>2</th>\n",
       "      <td>sadness</td>\n",
       "      <td>ON THE WAY TO MY HOMEGIRL BABY FUNERAL!!! MAN ...</td>\n",
       "      <td>negeive</td>\n",
       "      <td>WAY HOMEGIRL BABY FUNERAL MAN HATE FUNERALS SH...</td>\n",
       "    </tr>\n",
       "    <tr>\n",
       "      <th>3</th>\n",
       "      <td>joy</td>\n",
       "      <td>Such an eye ! The true hazel eye-and so brill...</td>\n",
       "      <td>positive</td>\n",
       "      <td>eye  true hazel eyeand brilliant  Regular feat...</td>\n",
       "    </tr>\n",
       "    <tr>\n",
       "      <th>4</th>\n",
       "      <td>joy</td>\n",
       "      <td>@Iluvmiasantos ugh babe.. hugggzzz for u .!  b...</td>\n",
       "      <td>neutral</td>\n",
       "      <td>ugh babe hugggzzz u  babe naamazed nga ako e b...</td>\n",
       "    </tr>\n",
       "  </tbody>\n",
       "</table>\n",
       "</div>"
      ],
      "text/plain": [
       "   Emotion                                               Text sentiment  \\\n",
       "0  neutral                                             Why ?    neutral   \n",
       "1      joy    Sage Act upgrade on my to do list for tommorow.   neutral   \n",
       "2  sadness  ON THE WAY TO MY HOMEGIRL BABY FUNERAL!!! MAN ...   negeive   \n",
       "3      joy   Such an eye ! The true hazel eye-and so brill...  positive   \n",
       "4      joy  @Iluvmiasantos ugh babe.. hugggzzz for u .!  b...   neutral   \n",
       "\n",
       "                                          clean_text  \n",
       "0                                                     \n",
       "1                     Sage Act upgrade list tommorow  \n",
       "2  WAY HOMEGIRL BABY FUNERAL MAN HATE FUNERALS SH...  \n",
       "3  eye  true hazel eyeand brilliant  Regular feat...  \n",
       "4  ugh babe hugggzzz u  babe naamazed nga ako e b...  "
      ]
     },
     "execution_count": 17,
     "metadata": {},
     "output_type": "execute_result"
    }
   ],
   "source": [
    "df.head()"
   ]
  },
  {
   "cell_type": "markdown",
   "metadata": {},
   "source": [
    "# key word extraction\n",
    "##extract most common word in the class of emoion"
   ]
  },
  {
   "cell_type": "code",
   "execution_count": 18,
   "metadata": {},
   "outputs": [],
   "source": [
    "from collections import Counter"
   ]
  },
  {
   "cell_type": "code",
   "execution_count": 19,
   "metadata": {},
   "outputs": [],
   "source": [
    "def extract_keywords(text,num=50):\n",
    "  token=[tok for tok in text.split()]\n",
    "  most_comon_tokens=Counter(token).most_common(num)\n",
    "  return dict(most_comon_tokens)"
   ]
  },
  {
   "cell_type": "code",
   "execution_count": 20,
   "metadata": {},
   "outputs": [
    {
     "data": {
      "text/plain": [
       "['neutral', 'joy', 'sadness', 'fear', 'surprise', 'anger', 'shame', 'disgust']"
      ]
     },
     "execution_count": 20,
     "metadata": {},
     "output_type": "execute_result"
    }
   ],
   "source": [
    "#list of emotion\n",
    "emotion_list=df[\"Emotion\"].unique().tolist()\n",
    "emotion_list"
   ]
  },
  {
   "cell_type": "code",
   "execution_count": 21,
   "metadata": {},
   "outputs": [],
   "source": [
    "# Load ML Pkgs\n",
    "# Estimators\n",
    "from sklearn.linear_model import LogisticRegression\n",
    "from sklearn.naive_bayes import MultinomialNB\n",
    "\n",
    "# Transformers\n",
    "from sklearn.feature_extraction.text import CountVectorizer\n",
    "from sklearn.model_selection import train_test_split\n",
    "from sklearn.metrics import accuracy_score,classification_report,confusion_matrix"
   ]
  },
  {
   "cell_type": "code",
   "execution_count": 22,
   "metadata": {},
   "outputs": [
    {
     "data": {
      "text/plain": [
       "0                                                         \n",
       "1                           sage act upgrade list tommorow\n",
       "2        way homegirl baby funeral man hate funerals sh...\n",
       "3        eye  true hazel eyeand brilliant  regular feat...\n",
       "4        ugh babe hugggzzz u  babe naamazed nga ako e b...\n",
       "                               ...                        \n",
       "34787           gift hope like it hand wear  itll warm lol\n",
       "34788           world didnt meso world definitely cnt away\n",
       "34789                                    man robbed today \n",
       "34790                            youu jealousy #losing you\n",
       "34791                                think baby dream time\n",
       "Name: clean_text, Length: 34785, dtype: object"
      ]
     },
     "execution_count": 22,
     "metadata": {},
     "output_type": "execute_result"
    }
   ],
   "source": [
    "#build features from text\n",
    "X_feature=df[\"clean_text\"]\n",
    "y_label=df[\"Emotion\"]\n",
    "X_feature=X_feature.str.lower()\n",
    "X_feature"
   ]
  },
  {
   "cell_type": "code",
   "execution_count": 23,
   "metadata": {},
   "outputs": [],
   "source": [
    "#vectorizer\n",
    "cv=CountVectorizer()\n",
    "X=cv.fit_transform(X_feature)"
   ]
  },
  {
   "cell_type": "code",
   "execution_count": 24,
   "metadata": {},
   "outputs": [
    {
     "data": {
      "text/plain": [
       "['00',\n",
       " '000',\n",
       " '000ã',\n",
       " '0021',\n",
       " '00am',\n",
       " '00pm',\n",
       " '01',\n",
       " '0235299130',\n",
       " '0330',\n",
       " '0400',\n",
       " '045',\n",
       " '05',\n",
       " '0512',\n",
       " '06',\n",
       " '073',\n",
       " '0798765',\n",
       " '08',\n",
       " '0800',\n",
       " '09',\n",
       " '099b8',\n",
       " '0l',\n",
       " '0ntworpen',\n",
       " '0o',\n",
       " '0oquot',\n",
       " '0w',\n",
       " '10',\n",
       " '100',\n",
       " '1000',\n",
       " '10000',\n",
       " '100000',\n",
       " '100000yr',\n",
       " '10000th',\n",
       " '1000gifts',\n",
       " '1000s',\n",
       " '1000shs',\n",
       " '1000th',\n",
       " '100s',\n",
       " '100th',\n",
       " '100â',\n",
       " '101',\n",
       " '1010',\n",
       " '1015',\n",
       " '101quot',\n",
       " '102',\n",
       " '1021',\n",
       " '1022',\n",
       " '103',\n",
       " '1030',\n",
       " '1030am',\n",
       " '1030pm',\n",
       " '10373629',\n",
       " '104',\n",
       " '1040',\n",
       " '105',\n",
       " '106',\n",
       " '1080',\n",
       " '10am',\n",
       " '10ans',\n",
       " '10h',\n",
       " '10hrs',\n",
       " '10k',\n",
       " '10mins',\n",
       " '10pm',\n",
       " '10puntos',\n",
       " '10ritengono',\n",
       " '10th',\n",
       " '10x',\n",
       " '10year',\n",
       " '10years',\n",
       " '10yrolds',\n",
       " '11',\n",
       " '110',\n",
       " '1100pm',\n",
       " '1104',\n",
       " '110km',\n",
       " '111',\n",
       " '1111ã',\n",
       " '112',\n",
       " '1130',\n",
       " '115',\n",
       " '1162',\n",
       " '118',\n",
       " '11am',\n",
       " '11hour',\n",
       " '11months',\n",
       " '11pm',\n",
       " '11yr',\n",
       " '12',\n",
       " '120',\n",
       " '1200',\n",
       " '121',\n",
       " '12181',\n",
       " '122',\n",
       " '122511',\n",
       " '123',\n",
       " '1230',\n",
       " '125',\n",
       " '1250',\n",
       " '12521260',\n",
       " '128',\n",
       " '128600',\n",
       " '1295',\n",
       " '12days',\n",
       " '12hours',\n",
       " '12hr',\n",
       " '12hrstwitter',\n",
       " '12km',\n",
       " '12th',\n",
       " '12xbuild',\n",
       " '12xsmile',\n",
       " '12yearold',\n",
       " '12â',\n",
       " '13',\n",
       " '130',\n",
       " '1300',\n",
       " '130am',\n",
       " '135',\n",
       " '135quot',\n",
       " '13joursdecole',\n",
       " '13th',\n",
       " '13yo',\n",
       " '14',\n",
       " '140',\n",
       " '1400',\n",
       " '14000',\n",
       " '1400th',\n",
       " '147',\n",
       " '14dayz',\n",
       " '14h',\n",
       " '14point',\n",
       " '14th',\n",
       " '15',\n",
       " '150',\n",
       " '1500',\n",
       " '15000',\n",
       " '1503',\n",
       " '15122011',\n",
       " '1516',\n",
       " '1564',\n",
       " '15am',\n",
       " '15h',\n",
       " '15h20',\n",
       " '15kjv',\n",
       " '15m',\n",
       " '15mins',\n",
       " '15minutes',\n",
       " '15oz',\n",
       " '15th',\n",
       " '15yearold',\n",
       " '16',\n",
       " '164',\n",
       " '16days',\n",
       " '16hrs',\n",
       " '16th',\n",
       " '16yearold',\n",
       " '17',\n",
       " '170',\n",
       " '1700',\n",
       " '17000',\n",
       " '1741',\n",
       " '175',\n",
       " '17giveback',\n",
       " '17th',\n",
       " '18',\n",
       " '180',\n",
       " '1808',\n",
       " '1822',\n",
       " '185',\n",
       " '187',\n",
       " '1878',\n",
       " '18th',\n",
       " '18years',\n",
       " '19',\n",
       " '1900',\n",
       " '1900h',\n",
       " '191523',\n",
       " '1917',\n",
       " '1920',\n",
       " '1926',\n",
       " '1929',\n",
       " '1930s',\n",
       " '1936',\n",
       " '1939',\n",
       " '1940s',\n",
       " '1949',\n",
       " '1956',\n",
       " '1960',\n",
       " '1960s',\n",
       " '1973',\n",
       " '1974',\n",
       " '1975',\n",
       " '1976',\n",
       " '1977',\n",
       " '1978',\n",
       " '1979',\n",
       " '1980',\n",
       " '1980s',\n",
       " '1982',\n",
       " '1983',\n",
       " '1984',\n",
       " '1985',\n",
       " '1986',\n",
       " '1987',\n",
       " '1989',\n",
       " '1991',\n",
       " '1992',\n",
       " '199394',\n",
       " '1997',\n",
       " '1999',\n",
       " '19th',\n",
       " '19u',\n",
       " '1allah',\n",
       " '1am',\n",
       " '1amp2',\n",
       " '1another',\n",
       " '1bs',\n",
       " '1d',\n",
       " '1e',\n",
       " '1employee',\n",
       " '1finding',\n",
       " '1h30',\n",
       " '1hr',\n",
       " '1hr22mins',\n",
       " '1john',\n",
       " '1kg',\n",
       " '1o',\n",
       " '1pick',\n",
       " '1s',\n",
       " '1st',\n",
       " '1stwhen',\n",
       " '1styearmedical',\n",
       " '1td',\n",
       " '1the',\n",
       " '1timothy',\n",
       " '1vrijdag',\n",
       " '1yo',\n",
       " '1yr',\n",
       " '20',\n",
       " '200',\n",
       " '2000',\n",
       " '20000',\n",
       " '200000',\n",
       " '2000h',\n",
       " '2000th',\n",
       " '2001',\n",
       " '2004',\n",
       " '2005',\n",
       " '2006',\n",
       " '2007',\n",
       " '2008',\n",
       " '2009',\n",
       " '2009the',\n",
       " '200balle',\n",
       " '201',\n",
       " '2010',\n",
       " '2010s',\n",
       " '2011',\n",
       " '2011movies',\n",
       " '2011whatz',\n",
       " '2011â',\n",
       " '2012',\n",
       " '2012s',\n",
       " '2012yearofbigdicks',\n",
       " '2012â',\n",
       " '2035',\n",
       " '204',\n",
       " '209',\n",
       " '20am',\n",
       " '20cm',\n",
       " '20in',\n",
       " '20pm',\n",
       " '20s',\n",
       " '20th',\n",
       " '21',\n",
       " '2100',\n",
       " '211211',\n",
       " '2118',\n",
       " '213',\n",
       " '215',\n",
       " '218',\n",
       " '218000',\n",
       " '21st',\n",
       " '21stfinallybirthday',\n",
       " '22',\n",
       " '2200',\n",
       " '22000',\n",
       " '2230',\n",
       " '224',\n",
       " '22a',\n",
       " '22nd',\n",
       " '23',\n",
       " '230',\n",
       " '230am',\n",
       " '235',\n",
       " '236thbirthdayofthemarinecorps',\n",
       " '23hrs',\n",
       " '23monthold',\n",
       " '23rd',\n",
       " '24',\n",
       " '240',\n",
       " '24fl',\n",
       " '24h',\n",
       " '24hour',\n",
       " '24hours',\n",
       " '24hr',\n",
       " '24hrs',\n",
       " '24live',\n",
       " '24th',\n",
       " '25',\n",
       " '250',\n",
       " '2500',\n",
       " '25000',\n",
       " '25ans',\n",
       " '25th',\n",
       " '26',\n",
       " '261',\n",
       " '263',\n",
       " '26am',\n",
       " '26next',\n",
       " '26th',\n",
       " '27',\n",
       " '270',\n",
       " '275',\n",
       " '2786',\n",
       " '28',\n",
       " '287',\n",
       " '28th',\n",
       " '29',\n",
       " '2a',\n",
       " '2am',\n",
       " '2amp1',\n",
       " '2b',\n",
       " '2bcome',\n",
       " '2c',\n",
       " '2come',\n",
       " '2cover',\n",
       " '2cqfrs',\n",
       " '2d',\n",
       " '2daiz',\n",
       " '2day',\n",
       " '2dayi',\n",
       " '2dayredeemed',\n",
       " '2days',\n",
       " '2daysandchange',\n",
       " '2dec',\n",
       " '2discovering',\n",
       " '2do',\n",
       " '2e',\n",
       " '2encourage',\n",
       " '2g',\n",
       " '2get',\n",
       " '2gether',\n",
       " '2getherproviding',\n",
       " '2h',\n",
       " '2have',\n",
       " '2him',\n",
       " '2hour',\n",
       " '2hr',\n",
       " '2hrs',\n",
       " '2jump',\n",
       " '2kg',\n",
       " '2ma',\n",
       " '2miles',\n",
       " '2moro',\n",
       " '2morrow',\n",
       " '2morrows',\n",
       " '2mrw',\n",
       " '2mw',\n",
       " '2nd',\n",
       " '2night',\n",
       " '2nite',\n",
       " '2o',\n",
       " '2oclock',\n",
       " '2ostor3alyayestor3aliekrabena',\n",
       " '2overcome',\n",
       " '2pac',\n",
       " '2page',\n",
       " '2parents',\n",
       " '2pm',\n",
       " '2quot',\n",
       " '2rbi',\n",
       " '2say',\n",
       " '2society',\n",
       " '2spread',\n",
       " '2steppin',\n",
       " '2thick',\n",
       " '2this',\n",
       " '2u',\n",
       " '2uampurs',\n",
       " '2worry',\n",
       " '2x',\n",
       " '2xist',\n",
       " '2year',\n",
       " '30',\n",
       " '300',\n",
       " '3000',\n",
       " '300000',\n",
       " '30000calories',\n",
       " '3000e',\n",
       " '3000places',\n",
       " '300m',\n",
       " '300s',\n",
       " '300th',\n",
       " '302',\n",
       " '304with',\n",
       " '305',\n",
       " '30am',\n",
       " '30e',\n",
       " '30mins',\n",
       " '30pm',\n",
       " '30second',\n",
       " '30th',\n",
       " '31',\n",
       " '311',\n",
       " '31st',\n",
       " '32',\n",
       " '3232',\n",
       " '324',\n",
       " '32mb',\n",
       " '33',\n",
       " '330',\n",
       " '330000',\n",
       " '330thatd',\n",
       " '336k',\n",
       " '33quot',\n",
       " '33yearold',\n",
       " '34',\n",
       " '3424',\n",
       " '345',\n",
       " '346',\n",
       " '34am',\n",
       " '35',\n",
       " '350',\n",
       " '3500',\n",
       " '355',\n",
       " '35centwings',\n",
       " '35mm',\n",
       " '36',\n",
       " '360deg',\n",
       " '3615',\n",
       " '365',\n",
       " '37',\n",
       " '37574',\n",
       " '37m',\n",
       " '38',\n",
       " '39',\n",
       " '396',\n",
       " '397',\n",
       " '399',\n",
       " '39975216900076542',\n",
       " '3alekwa7ed',\n",
       " '3am',\n",
       " '3amp7',\n",
       " '3amtweets',\n",
       " '3bn',\n",
       " '3d',\n",
       " '3dad',\n",
       " '3ds',\n",
       " '3e1',\n",
       " '3g',\n",
       " '3hr',\n",
       " '3hrs',\n",
       " '3in',\n",
       " '3isawa',\n",
       " '3ish',\n",
       " '3knutselbakken',\n",
       " '3l',\n",
       " '3more',\n",
       " '3morepoints',\n",
       " '3ndy',\n",
       " '3noud',\n",
       " '3packsofcigs',\n",
       " '3pm',\n",
       " '3quot',\n",
       " '3rd',\n",
       " '3s',\n",
       " '3see',\n",
       " '3stand',\n",
       " '3this',\n",
       " '3w',\n",
       " '3weeks',\n",
       " '3x',\n",
       " '3yearolds',\n",
       " '3years',\n",
       " '3yo',\n",
       " '3ã',\n",
       " '40',\n",
       " '400',\n",
       " '4000',\n",
       " '40000',\n",
       " '4000th',\n",
       " '4032378477',\n",
       " '4060',\n",
       " '40feet',\n",
       " '40k',\n",
       " '40mins',\n",
       " '40s',\n",
       " '40th',\n",
       " '40yearold',\n",
       " '41',\n",
       " '412',\n",
       " '413',\n",
       " '41733',\n",
       " '42',\n",
       " '420',\n",
       " '420p',\n",
       " '430',\n",
       " '430am',\n",
       " '430pm',\n",
       " '4368th',\n",
       " '43yeah',\n",
       " '44',\n",
       " '44he',\n",
       " '45',\n",
       " '4500',\n",
       " '458',\n",
       " '45a',\n",
       " '45s',\n",
       " '45th',\n",
       " '46',\n",
       " '47',\n",
       " '48',\n",
       " '49',\n",
       " '49er',\n",
       " '49ers',\n",
       " '4all',\n",
       " '4am',\n",
       " '4amand',\n",
       " '4b',\n",
       " '4change',\n",
       " '4cousins',\n",
       " '4day',\n",
       " '4en',\n",
       " '4get',\n",
       " '4give',\n",
       " '4h',\n",
       " '4kg',\n",
       " '4lb',\n",
       " '4m',\n",
       " '4mealsin3days',\n",
       " '4o',\n",
       " '4oo',\n",
       " '4oooo',\n",
       " '4pink',\n",
       " '4pm',\n",
       " '4quotjack',\n",
       " '4rm',\n",
       " '4s',\n",
       " '4sake',\n",
       " '4th',\n",
       " '4u',\n",
       " '4uur',\n",
       " '4ward',\n",
       " '4x4s',\n",
       " '4year',\n",
       " '4your',\n",
       " '4yrs',\n",
       " '4âº',\n",
       " '50',\n",
       " '500',\n",
       " '5000',\n",
       " '50000',\n",
       " '500000',\n",
       " '500aday',\n",
       " '500th',\n",
       " '50mill',\n",
       " '50p',\n",
       " '50th',\n",
       " '51',\n",
       " '510',\n",
       " '5110',\n",
       " '512',\n",
       " '52',\n",
       " '523',\n",
       " '52âº',\n",
       " '53',\n",
       " '530',\n",
       " '530am',\n",
       " '54',\n",
       " '545',\n",
       " '55',\n",
       " '5555',\n",
       " '57',\n",
       " '580',\n",
       " '58am',\n",
       " '59',\n",
       " '5900',\n",
       " '5995',\n",
       " '5a',\n",
       " '5a1',\n",
       " '5air',\n",
       " '5ala9t',\n",
       " '5alla9',\n",
       " '5am',\n",
       " '5b',\n",
       " '5day',\n",
       " '5days',\n",
       " '5daysleft',\n",
       " '5dec',\n",
       " '5december',\n",
       " '5euro',\n",
       " '5hour',\n",
       " '5hr',\n",
       " '5im',\n",
       " '5ish',\n",
       " '5k',\n",
       " '5letona',\n",
       " '5mins',\n",
       " '5mo',\n",
       " '5pm',\n",
       " '5s',\n",
       " '5saaraawwww',\n",
       " '5saraaaw',\n",
       " '5th',\n",
       " '5yo',\n",
       " '60',\n",
       " '600',\n",
       " '6000',\n",
       " '60mins',\n",
       " '60minutes',\n",
       " '60pg',\n",
       " '612',\n",
       " '615',\n",
       " '62',\n",
       " '630',\n",
       " '630am',\n",
       " '640',\n",
       " '645',\n",
       " '64quot',\n",
       " '65',\n",
       " '650',\n",
       " '656',\n",
       " '66',\n",
       " '666',\n",
       " '67',\n",
       " '672',\n",
       " '68',\n",
       " '686',\n",
       " '69',\n",
       " '6ala3',\n",
       " '6am',\n",
       " '6am9pm',\n",
       " '6days',\n",
       " '6e',\n",
       " '6hrs',\n",
       " '6inch',\n",
       " '6lb',\n",
       " '6lbs',\n",
       " '6midnight',\n",
       " '6months',\n",
       " '6mths',\n",
       " '6p',\n",
       " '6pm',\n",
       " '6point',\n",
       " '6th',\n",
       " '70',\n",
       " '700',\n",
       " '708',\n",
       " '70s',\n",
       " '70th',\n",
       " '71',\n",
       " '710',\n",
       " '715',\n",
       " '72',\n",
       " '7201',\n",
       " '73',\n",
       " '730am',\n",
       " '732',\n",
       " '74',\n",
       " '75',\n",
       " '750',\n",
       " '750am',\n",
       " '75123',\n",
       " '75th',\n",
       " '76',\n",
       " '7614',\n",
       " '78',\n",
       " '78yo',\n",
       " '79',\n",
       " '795',\n",
       " '7adults',\n",
       " '7ag',\n",
       " '7am',\n",
       " '7and',\n",
       " '7eme',\n",
       " '7hillsstaff',\n",
       " '7iedereen',\n",
       " '7o5',\n",
       " '7page',\n",
       " '7papers',\n",
       " '7pm',\n",
       " '7pslx',\n",
       " '7quot',\n",
       " '7s',\n",
       " '7th',\n",
       " '7up',\n",
       " '7x2',\n",
       " '7yearold',\n",
       " '7â',\n",
       " '80',\n",
       " '800',\n",
       " '809',\n",
       " '80s',\n",
       " '80talsfezt',\n",
       " '80th',\n",
       " '810',\n",
       " '812',\n",
       " '816',\n",
       " '82',\n",
       " '82ndminute',\n",
       " '82yearold',\n",
       " '83',\n",
       " '830',\n",
       " '84',\n",
       " '85',\n",
       " '850',\n",
       " '856674',\n",
       " '86',\n",
       " '876',\n",
       " '88',\n",
       " '8830cant',\n",
       " '89',\n",
       " '8927398456',\n",
       " '8addys',\n",
       " '8am',\n",
       " '8am8pm',\n",
       " '8d',\n",
       " '8dec',\n",
       " '8ergrond',\n",
       " '8gb',\n",
       " '8h30',\n",
       " '8ima',\n",
       " '8oclock',\n",
       " '8pm',\n",
       " '8th',\n",
       " '8week',\n",
       " '8zone',\n",
       " '90',\n",
       " '9000',\n",
       " '90210',\n",
       " '90210ftw',\n",
       " '905am',\n",
       " '90min',\n",
       " '90s',\n",
       " '90th',\n",
       " '90yr',\n",
       " '91',\n",
       " '910',\n",
       " '911',\n",
       " '916',\n",
       " '92',\n",
       " '93',\n",
       " '930',\n",
       " '935',\n",
       " '949',\n",
       " '95',\n",
       " '95day',\n",
       " '96',\n",
       " '96yo',\n",
       " '96â',\n",
       " '97',\n",
       " '98',\n",
       " '99',\n",
       " '997',\n",
       " '998',\n",
       " '999',\n",
       " '9am',\n",
       " '9ayma',\n",
       " '9faret',\n",
       " '9h',\n",
       " '9hts',\n",
       " '9month',\n",
       " '9pm',\n",
       " '9pm6am',\n",
       " '9s',\n",
       " '9th',\n",
       " '9yo',\n",
       " 'a27',\n",
       " 'a3',\n",
       " 'a4',\n",
       " 'a4akir',\n",
       " 'a6',\n",
       " 'a6l3',\n",
       " 'a7la',\n",
       " 'a7md',\n",
       " 'aa',\n",
       " 'aaa',\n",
       " 'aaaaaaaaaaaaa',\n",
       " 'aaaaaaah',\n",
       " 'aaaaaarggh',\n",
       " 'aaaaahh',\n",
       " 'aaaaahhhhh',\n",
       " 'aaaaand',\n",
       " 'aaaand',\n",
       " 'aaaannnddd',\n",
       " 'aaah',\n",
       " 'aaahh',\n",
       " 'aaahhh',\n",
       " 'aaalllllli',\n",
       " 'aaand',\n",
       " 'aaawww',\n",
       " 'aah',\n",
       " 'aaha',\n",
       " 'aahaha',\n",
       " 'aahhh',\n",
       " 'aahhhhh',\n",
       " 'aam',\n",
       " 'aamir',\n",
       " 'aamirs',\n",
       " 'aamp',\n",
       " 'aampm',\n",
       " 'aan',\n",
       " 'aanbellen',\n",
       " 'aandacht',\n",
       " 'aandeslag',\n",
       " 'aanfietsen',\n",
       " 'aangeboden',\n",
       " 'aangekleed',\n",
       " 'aangemaakt',\n",
       " 'aangename',\n",
       " 'aant',\n",
       " 'aantal',\n",
       " 'aap',\n",
       " 'aappearing',\n",
       " 'aar',\n",
       " 'aardappel',\n",
       " 'aardig',\n",
       " 'aaron',\n",
       " 'aasman',\n",
       " 'ab',\n",
       " 'aback',\n",
       " 'abaixo',\n",
       " 'abandon',\n",
       " 'abandona',\n",
       " 'abandoned',\n",
       " 'abandoning',\n",
       " 'abandonment',\n",
       " 'abandonmenti',\n",
       " 'abbott',\n",
       " 'abbozzando',\n",
       " 'abby',\n",
       " 'abc',\n",
       " 'abcfamily',\n",
       " 'abd',\n",
       " 'abdomen',\n",
       " 'abdominal',\n",
       " 'abduct',\n",
       " 'abe',\n",
       " 'abegabe',\n",
       " 'abercrombie',\n",
       " 'abi',\n",
       " 'abide',\n",
       " 'abiding',\n",
       " 'abigail',\n",
       " 'abilene',\n",
       " 'abilities',\n",
       " 'ability',\n",
       " 'abiogenesis',\n",
       " 'abit',\n",
       " 'abiye',\n",
       " 'abjectly',\n",
       " 'able',\n",
       " 'able2smile',\n",
       " 'ablyquot',\n",
       " 'aboard',\n",
       " 'abode',\n",
       " 'abolitionists',\n",
       " 'abonnement',\n",
       " 'aboot',\n",
       " 'abortion',\n",
       " 'abound',\n",
       " 'aboundquot',\n",
       " 'about',\n",
       " 'aboutta',\n",
       " 'abouttoscarf',\n",
       " 'aboutâ',\n",
       " 'abouut',\n",
       " 'above',\n",
       " 'abram',\n",
       " 'abraã',\n",
       " 'abren',\n",
       " 'abrir',\n",
       " 'abroad',\n",
       " 'abrupt',\n",
       " 'abruptely',\n",
       " 'abruptly',\n",
       " 'abs',\n",
       " 'absailing',\n",
       " 'abscence',\n",
       " 'absence',\n",
       " 'absent',\n",
       " 'absentminded',\n",
       " 'absolute',\n",
       " 'absolutely',\n",
       " 'absoulute',\n",
       " 'abstract',\n",
       " 'absurd',\n",
       " 'absurdly',\n",
       " 'abt',\n",
       " 'abu',\n",
       " 'abujamal',\n",
       " 'abundance',\n",
       " 'abundant',\n",
       " 'abuse',\n",
       " 'abused',\n",
       " 'abusing',\n",
       " 'abusive',\n",
       " 'abut',\n",
       " 'abyssinia',\n",
       " 'ac130',\n",
       " 'aca',\n",
       " 'acaba',\n",
       " 'acababo',\n",
       " 'acabado',\n",
       " 'acabo',\n",
       " 'acacia',\n",
       " 'academic',\n",
       " 'academics',\n",
       " 'academy',\n",
       " 'acc',\n",
       " 'accelerate',\n",
       " 'accelerating',\n",
       " 'acceleration',\n",
       " 'accent',\n",
       " 'accents',\n",
       " 'accept',\n",
       " 'acceptable',\n",
       " 'acceptance',\n",
       " 'accepted',\n",
       " 'acceptent',\n",
       " 'accepting',\n",
       " 'accepts',\n",
       " 'acceso',\n",
       " 'accesorios',\n",
       " 'access',\n",
       " 'accessgroups',\n",
       " 'accessible',\n",
       " 'accessoires',\n",
       " 'accessories',\n",
       " 'accessory',\n",
       " 'accident',\n",
       " 'accidental',\n",
       " 'accidentally',\n",
       " 'accidentallyy',\n",
       " 'accidentlook',\n",
       " 'accidently',\n",
       " 'accidents',\n",
       " 'accomodation',\n",
       " 'accompagner',\n",
       " 'accompanied',\n",
       " 'accompanies',\n",
       " 'accompany',\n",
       " 'accompanying',\n",
       " 'accomplish',\n",
       " 'accomplished',\n",
       " 'accomplishedpart',\n",
       " 'accomplishment',\n",
       " 'accord',\n",
       " 'according',\n",
       " 'accordingly',\n",
       " 'account',\n",
       " 'accountants',\n",
       " 'accounting',\n",
       " 'accounts',\n",
       " 'accouting',\n",
       " 'accredited',\n",
       " 'accrediting',\n",
       " 'accrochage',\n",
       " 'acct',\n",
       " 'acctblty',\n",
       " 'accumulare',\n",
       " 'accumulate',\n",
       " 'accumulated',\n",
       " 'accumulation',\n",
       " 'accuracy',\n",
       " 'accurate',\n",
       " 'accurately',\n",
       " 'accursed',\n",
       " 'accusations',\n",
       " 'accuse',\n",
       " 'accused',\n",
       " 'accuser',\n",
       " 'accuses',\n",
       " 'accusing',\n",
       " 'ace',\n",
       " 'aced',\n",
       " 'ach',\n",
       " 'achats',\n",
       " 'ache',\n",
       " 'ached',\n",
       " 'aches',\n",
       " 'acheter',\n",
       " 'achetã',\n",
       " 'achey',\n",
       " 'achieve',\n",
       " 'achievecheryl',\n",
       " 'achieved',\n",
       " 'achievement',\n",
       " 'achievements',\n",
       " 'achieving',\n",
       " ...]"
      ]
     },
     "execution_count": 24,
     "metadata": {},
     "output_type": "execute_result"
    }
   ],
   "source": [
    "cv.get_feature_names()"
   ]
  },
  {
   "cell_type": "code",
   "execution_count": 25,
   "metadata": {},
   "outputs": [],
   "source": [
    "#split dataset\n",
    "X_train,X_test,y_train,y_test=train_test_split(X,y_label,test_size=0.2,random_state=42)"
   ]
  },
  {
   "cell_type": "markdown",
   "metadata": {},
   "source": [
    "# model_training for naive bayes\n"
   ]
  },
  {
   "cell_type": "code",
   "execution_count": 26,
   "metadata": {},
   "outputs": [
    {
     "data": {
      "text/plain": [
       "MultinomialNB()"
      ]
     },
     "execution_count": 26,
     "metadata": {},
     "output_type": "execute_result"
    }
   ],
   "source": [
    "#model_training\n",
    "nv_model=MultinomialNB()\n",
    "nv_model.fit(X_train,y_train)"
   ]
  },
  {
   "cell_type": "code",
   "execution_count": 27,
   "metadata": {},
   "outputs": [
    {
     "data": {
      "text/plain": [
       "0.5763978726462555"
      ]
     },
     "execution_count": 27,
     "metadata": {},
     "output_type": "execute_result"
    }
   ],
   "source": [
    "#accuracy for naive bayes \n",
    "nv_model.score(X_test,y_test)"
   ]
  },
  {
   "cell_type": "code",
   "execution_count": 28,
   "metadata": {},
   "outputs": [
    {
     "data": {
      "text/plain": [
       "<sklearn.metrics._plot.confusion_matrix.ConfusionMatrixDisplay at 0x2a125759fa0>"
      ]
     },
     "execution_count": 28,
     "metadata": {},
     "output_type": "execute_result"
    },
    {
     "data": {
      "image/png": "[encoded data removed]",
      "text/plain": [
       "<Figure size 432x288 with 2 Axes>"
      ]
     },
     "metadata": {
      "needs_background": "light"
     },
     "output_type": "display_data"
    }
   ],
   "source": [
    "#plot confusion matrix\n",
    "from sklearn.metrics import plot_confusion_matrix\n",
    "plot_confusion_matrix(nv_model,X_test,y_test)"
   ]
  },
  {
   "cell_type": "markdown",
   "metadata": {},
   "source": [
    "# model for LogesticRegression"
   ]
  },
  {
   "cell_type": "code",
   "execution_count": 29,
   "metadata": {},
   "outputs": [
    {
     "name": "stderr",
     "output_type": "stream",
     "text": [
      "C:\\Users\\sangi\\anaconda3\\lib\\site-packages\\sklearn\\linear_model\\_logistic.py:762: ConvergenceWarning: lbfgs failed to converge (status=1):\n",
      "STOP: TOTAL NO. of ITERATIONS REACHED LIMIT.\n",
      "\n",
      "Increase the number of iterations (max_iter) or scale the data as shown in:\n",
      "    https://scikit-learn.org/stable/modules/preprocessing.html\n",
      "Please also refer to the documentation for alternative solver options:\n",
      "    https://scikit-learn.org/stable/modules/linear_model.html#logistic-regression\n",
      "  n_iter_i = _check_optimize_result(\n"
     ]
    },
    {
     "data": {
      "text/plain": [
       "LogisticRegression()"
      ]
     },
     "execution_count": 29,
     "metadata": {},
     "output_type": "execute_result"
    }
   ],
   "source": [
    "#model training\n",
    "lr_model=LogisticRegression()\n",
    "lr_model.fit(X_train,y_train)"
   ]
  },
  {
   "cell_type": "code",
   "execution_count": 30,
   "metadata": {},
   "outputs": [
    {
     "data": {
      "text/plain": [
       "0.6419433663935604"
      ]
     },
     "execution_count": 30,
     "metadata": {},
     "output_type": "execute_result"
    }
   ],
   "source": [
    "#accuracy\n",
    "lr_model.score(X_test,y_test)"
   ]
  },
  {
   "cell_type": "code",
   "execution_count": 31,
   "metadata": {},
   "outputs": [
    {
     "data": {
      "text/plain": [
       "<sklearn.metrics._plot.confusion_matrix.ConfusionMatrixDisplay at 0x2a123be01c0>"
      ]
     },
     "execution_count": 31,
     "metadata": {},
     "output_type": "execute_result"
    },
    {
     "data": {
      "image/png": "[encoded data removed]",
      "text/plain": [
       "<Figure size 432x288 with 2 Axes>"
      ]
     },
     "metadata": {
      "needs_background": "light"
     },
     "output_type": "display_data"
    }
   ],
   "source": [
    "#plot confusion matrix\n",
    "from sklearn.metrics import plot_confusion_matrix\n",
    "plot_confusion_matrix(lr_model,X_test,y_test)"
   ]
  },
  {
   "cell_type": "code",
   "execution_count": 32,
   "metadata": {},
   "outputs": [],
   "source": [
    "def predict_emotion(sample_text,model):\n",
    "  myvect=cv.transform(sample_text).toarray()\n",
    "  prediction=nv_model.predict(myvect)\n",
    "  predic_proba=nv_model.predict_proba(myvect)\n",
    "  predic_percentage_for_all=dict(zip(model.classes_,predic_proba[0]))\n",
    "  print(\"prediction:{},Prediction score:{}\".format(prediction[0],np.max(predic_proba)))\n",
    "  return predic_percentage_for_all"
   ]
  },
  {
   "cell_type": "markdown",
   "metadata": {},
   "source": [
    "# prediction and accurancy  for naive bayes\n"
   ]
  },
  {
   "cell_type": "code",
   "execution_count": 44,
   "metadata": {},
   "outputs": [],
   "source": [
    "sample_text=[\"i hate this subject\"]\n",
    "sample_text2=[\"i love this food so much!\"]\n",
    "sample_text3=[\"why do you think that he will miss the train?\"]"
   ]
  },
  {
   "cell_type": "code",
   "execution_count": 45,
   "metadata": {},
   "outputs": [
    {
     "name": "stdout",
     "output_type": "stream",
     "text": [
      "prediction:anger,Prediction score:0.3744773855989114\n"
     ]
    },
    {
     "data": {
      "text/plain": [
       "{'anger': 0.3744773855989114,\n",
       " 'disgust': 0.0027752874575074538,\n",
       " 'fear': 0.19070058482422617,\n",
       " 'joy': 0.11928438466645476,\n",
       " 'neutral': 0.00015968853516628946,\n",
       " 'sadness': 0.3024684683650573,\n",
       " 'shame': 6.5307812689465115e-06,\n",
       " 'surprise': 0.0101276697714095}"
      ]
     },
     "execution_count": 45,
     "metadata": {},
     "output_type": "execute_result"
    }
   ],
   "source": [
    "predict_emotion(sample_text,nv_model)"
   ]
  },
  {
   "cell_type": "code",
   "execution_count": 46,
   "metadata": {},
   "outputs": [
    {
     "name": "stdout",
     "output_type": "stream",
     "text": [
      "prediction:joy,Prediction score:0.6099083659686025\n"
     ]
    },
    {
     "data": {
      "text/plain": [
       "{'anger': 0.01634658649252261,\n",
       " 'disgust': 4.118903337323852e-05,\n",
       " 'fear': 0.06157213357250074,\n",
       " 'joy': 0.6099083659686025,\n",
       " 'neutral': 9.406956290706877e-06,\n",
       " 'sadness': 0.3083574329047041,\n",
       " 'shame': 1.082678031787617e-08,\n",
       " 'surprise': 0.0037648742452282154}"
      ]
     },
     "execution_count": 46,
     "metadata": {},
     "output_type": "execute_result"
    }
   ],
   "source": [
    "predict_emotion(sample_text2,nv_model)"
   ]
  },
  {
   "cell_type": "code",
   "execution_count": 47,
   "metadata": {},
   "outputs": [
    {
     "name": "stdout",
     "output_type": "stream",
     "text": [
      "prediction:sadness,Prediction score:0.6948944451550884\n"
     ]
    },
    {
     "data": {
      "text/plain": [
       "{'anger': 0.059690313677791554,\n",
       " 'disgust': 2.0708957099771184e-05,\n",
       " 'fear': 0.024255589067605977,\n",
       " 'joy': 0.21596636382493772,\n",
       " 'neutral': 4.317046503432174e-08,\n",
       " 'sadness': 0.6948944451550884,\n",
       " 'shame': 1.6185265169914957e-10,\n",
       " 'surprise': 0.005172535985160517}"
      ]
     },
     "execution_count": 47,
     "metadata": {},
     "output_type": "execute_result"
    }
   ],
   "source": [
    "predict_emotion(sample_text3,nv_model)"
   ]
  },
  {
   "cell_type": "markdown",
   "metadata": {},
   "source": [
    "# prediction for LogesticRegression"
   ]
  },
  {
   "cell_type": "code",
   "execution_count": 49,
   "metadata": {},
   "outputs": [
    {
     "name": "stdout",
     "output_type": "stream",
     "text": [
      "prediction:anger,Prediction score:0.3744773855989114\n"
     ]
    },
    {
     "data": {
      "text/plain": [
       "{'anger': 0.3744773855989114,\n",
       " 'disgust': 0.0027752874575074538,\n",
       " 'fear': 0.19070058482422617,\n",
       " 'joy': 0.11928438466645476,\n",
       " 'neutral': 0.00015968853516628946,\n",
       " 'sadness': 0.3024684683650573,\n",
       " 'shame': 6.5307812689465115e-06,\n",
       " 'surprise': 0.0101276697714095}"
      ]
     },
     "execution_count": 49,
     "metadata": {},
     "output_type": "execute_result"
    }
   ],
   "source": [
    "predict_emotion(sample_text,lr_model)"
   ]
  },
  {
   "cell_type": "code",
   "execution_count": 50,
   "metadata": {},
   "outputs": [
    {
     "name": "stdout",
     "output_type": "stream",
     "text": [
      "prediction:joy,Prediction score:0.6099083659686025\n"
     ]
    },
    {
     "data": {
      "text/plain": [
       "{'anger': 0.01634658649252261,\n",
       " 'disgust': 4.118903337323852e-05,\n",
       " 'fear': 0.06157213357250074,\n",
       " 'joy': 0.6099083659686025,\n",
       " 'neutral': 9.406956290706877e-06,\n",
       " 'sadness': 0.3083574329047041,\n",
       " 'shame': 1.082678031787617e-08,\n",
       " 'surprise': 0.0037648742452282154}"
      ]
     },
     "execution_count": 50,
     "metadata": {},
     "output_type": "execute_result"
    }
   ],
   "source": [
    "predict_emotion(sample_text2,nv_model)"
   ]
  },
  {
   "cell_type": "code",
   "execution_count": 51,
   "metadata": {},
   "outputs": [
    {
     "name": "stdout",
     "output_type": "stream",
     "text": [
      "prediction:sadness,Prediction score:0.6948944451550884\n"
     ]
    },
    {
     "data": {
      "text/plain": [
       "{'anger': 0.059690313677791554,\n",
       " 'disgust': 2.0708957099771184e-05,\n",
       " 'fear': 0.024255589067605977,\n",
       " 'joy': 0.21596636382493772,\n",
       " 'neutral': 4.317046503432174e-08,\n",
       " 'sadness': 0.6948944451550884,\n",
       " 'shame': 1.6185265169914957e-10,\n",
       " 'surprise': 0.005172535985160517}"
      ]
     },
     "execution_count": 51,
     "metadata": {},
     "output_type": "execute_result"
    }
   ],
   "source": [
    "predict_emotion(sample_text3,lr_model)"
   ]
  },
  {
   "cell_type": "code",
   "execution_count": 1,
   "metadata": {},
   "outputs": [
    {
     "data": {
      "text/plain": [
       "'C:\\\\Users\\\\sangi'"
      ]
     },
     "execution_count": 1,
     "metadata": {},
     "output_type": "execute_result"
    }
   ],
   "source": [
    "import os\n",
    "os.getcwd()"
   ]
  },
  {
   "cell_type": "code",
   "execution_count": null,
   "metadata": {},
   "outputs": [],
   "source": []
  }
 ],
 "metadata": {
  "kernelspec": {
   "display_name": "Python 3",
   "language": "python",
   "name": "python3"
  },
  "language_info": {
   "codemirror_mode": {
    "name": "ipython",
    "version": 3
   },
   "file_extension": ".py",
   "mimetype": "text/x-python",
   "name": "python",
   "nbconvert_exporter": "python",
   "pygments_lexer": "ipython3",
   "version": "3.8.5"
  }
 },
 "nbformat": 4,
 "nbformat_minor": 4
}
